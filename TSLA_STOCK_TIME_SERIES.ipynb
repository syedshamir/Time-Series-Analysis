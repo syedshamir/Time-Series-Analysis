{
 "cells": [
  {
   "cell_type": "code",
   "execution_count": 1,
   "id": "42e4eb6a",
   "metadata": {},
   "outputs": [
    {
     "name": "stdout",
     "output_type": "stream",
     "text": [
      "Requirement already satisfied: pandas-datareader in c:\\users\\hp\\anaconda3\\lib\\site-packages (0.10.0)\n",
      "Requirement already satisfied: pandas>=0.23 in c:\\users\\hp\\anaconda3\\lib\\site-packages (from pandas-datareader) (1.4.2)\n",
      "Requirement already satisfied: requests>=2.19.0 in c:\\users\\hp\\anaconda3\\lib\\site-packages (from pandas-datareader) (2.27.1)\n",
      "Requirement already satisfied: lxml in c:\\users\\hp\\anaconda3\\lib\\site-packages (from pandas-datareader) (4.9.2)\n",
      "Requirement already satisfied: numpy>=1.18.5 in c:\\users\\hp\\anaconda3\\lib\\site-packages (from pandas>=0.23->pandas-datareader) (1.21.5)\n",
      "Requirement already satisfied: pytz>=2020.1 in c:\\users\\hp\\anaconda3\\lib\\site-packages (from pandas>=0.23->pandas-datareader) (2022.7.1)\n",
      "Requirement already satisfied: python-dateutil>=2.8.1 in c:\\users\\hp\\anaconda3\\lib\\site-packages (from pandas>=0.23->pandas-datareader) (2.8.2)\n",
      "Requirement already satisfied: six>=1.5 in c:\\users\\hp\\anaconda3\\lib\\site-packages (from python-dateutil>=2.8.1->pandas>=0.23->pandas-datareader) (1.16.0)\n",
      "Requirement already satisfied: charset-normalizer~=2.0.0 in c:\\users\\hp\\anaconda3\\lib\\site-packages (from requests>=2.19.0->pandas-datareader) (2.0.4)\n",
      "Requirement already satisfied: certifi>=2017.4.17 in c:\\users\\hp\\anaconda3\\lib\\site-packages (from requests>=2.19.0->pandas-datareader) (2021.10.8)\n",
      "Requirement already satisfied: idna<4,>=2.5 in c:\\users\\hp\\anaconda3\\lib\\site-packages (from requests>=2.19.0->pandas-datareader) (3.3)\n",
      "Requirement already satisfied: urllib3<1.27,>=1.21.1 in c:\\users\\hp\\anaconda3\\lib\\site-packages (from requests>=2.19.0->pandas-datareader) (1.26.9)\n"
     ]
    }
   ],
   "source": [
    "!pip install pandas-datareader"
   ]
  },
  {
   "cell_type": "code",
   "execution_count": 46,
   "id": "b6206182",
   "metadata": {},
   "outputs": [],
   "source": [
    "import pandas_datareader as pdr\n",
    "import pandas as pd\n",
    "\n",
    "## library for time series\n",
    "from datetime import datetime "
   ]
  },
  {
   "cell_type": "code",
   "execution_count": 3,
   "id": "dc225026",
   "metadata": {
    "scrolled": true
   },
   "outputs": [
    {
     "name": "stdout",
     "output_type": "stream",
     "text": [
      "Collecting yfinance\n",
      "  Using cached yfinance-0.2.11-py2.py3-none-any.whl (59 kB)\n",
      "Requirement already satisfied: appdirs>=1.4.4 in c:\\users\\hp\\anaconda3\\lib\\site-packages (from yfinance) (1.4.4)\n",
      "Requirement already satisfied: pytz>=2022.5 in c:\\users\\hp\\anaconda3\\lib\\site-packages (from yfinance) (2022.7.1)\n",
      "Requirement already satisfied: multitasking>=0.0.7 in c:\\users\\hp\\anaconda3\\lib\\site-packages (from yfinance) (0.0.11)\n",
      "Requirement already satisfied: numpy>=1.16.5 in c:\\users\\hp\\anaconda3\\lib\\site-packages (from yfinance) (1.21.5)\n",
      "Collecting frozendict>=2.3.4\n",
      "  Using cached frozendict-2.3.4-cp39-cp39-win_amd64.whl (35 kB)\n",
      "Requirement already satisfied: lxml>=4.9.1 in c:\\users\\hp\\anaconda3\\lib\\site-packages (from yfinance) (4.9.2)\n",
      "Requirement already satisfied: pandas>=1.3.0 in c:\\users\\hp\\anaconda3\\lib\\site-packages (from yfinance) (1.4.2)\n",
      "Requirement already satisfied: beautifulsoup4>=4.11.1 in c:\\users\\hp\\anaconda3\\lib\\site-packages (from yfinance) (4.11.1)\n",
      "Requirement already satisfied: cryptography>=3.3.2 in c:\\users\\hp\\anaconda3\\lib\\site-packages (from yfinance) (3.4.8)\n",
      "Collecting html5lib>=1.1\n",
      "  Using cached html5lib-1.1-py2.py3-none-any.whl (112 kB)\n",
      "Requirement already satisfied: requests>=2.26 in c:\\users\\hp\\anaconda3\\lib\\site-packages (from yfinance) (2.27.1)\n",
      "Requirement already satisfied: soupsieve>1.2 in c:\\users\\hp\\anaconda3\\lib\\site-packages (from beautifulsoup4>=4.11.1->yfinance) (2.3.1)\n",
      "Requirement already satisfied: cffi>=1.12 in c:\\users\\hp\\anaconda3\\lib\\site-packages (from cryptography>=3.3.2->yfinance) (1.15.0)\n",
      "Requirement already satisfied: pycparser in c:\\users\\hp\\anaconda3\\lib\\site-packages (from cffi>=1.12->cryptography>=3.3.2->yfinance) (2.21)\n",
      "Requirement already satisfied: six>=1.9 in c:\\users\\hp\\anaconda3\\lib\\site-packages (from html5lib>=1.1->yfinance) (1.16.0)\n",
      "Requirement already satisfied: webencodings in c:\\users\\hp\\anaconda3\\lib\\site-packages (from html5lib>=1.1->yfinance) (0.5.1)\n",
      "Requirement already satisfied: python-dateutil>=2.8.1 in c:\\users\\hp\\anaconda3\\lib\\site-packages (from pandas>=1.3.0->yfinance) (2.8.2)\n",
      "Requirement already satisfied: charset-normalizer~=2.0.0 in c:\\users\\hp\\anaconda3\\lib\\site-packages (from requests>=2.26->yfinance) (2.0.4)\n",
      "Requirement already satisfied: idna<4,>=2.5 in c:\\users\\hp\\anaconda3\\lib\\site-packages (from requests>=2.26->yfinance) (3.3)\n",
      "Requirement already satisfied: urllib3<1.27,>=1.21.1 in c:\\users\\hp\\anaconda3\\lib\\site-packages (from requests>=2.26->yfinance) (1.26.9)\n",
      "Requirement already satisfied: certifi>=2017.4.17 in c:\\users\\hp\\anaconda3\\lib\\site-packages (from requests>=2.26->yfinance) (2021.10.8)\n",
      "Installing collected packages: html5lib, frozendict, yfinance\n",
      "Successfully installed frozendict-2.3.4 html5lib-1.1 yfinance-0.2.11\n",
      "Note: you may need to restart the kernel to use updated packages.\n"
     ]
    }
   ],
   "source": [
    "pip install yfinance"
   ]
  },
  {
   "cell_type": "code",
   "execution_count": 5,
   "id": "25e55523",
   "metadata": {},
   "outputs": [],
   "source": [
    "import datetime as dt"
   ]
  },
  {
   "cell_type": "code",
   "execution_count": 69,
   "id": "294dbead",
   "metadata": {},
   "outputs": [
    {
     "name": "stdout",
     "output_type": "stream",
     "text": [
      "[*********************100%***********************]  1 of 1 completed\n"
     ]
    }
   ],
   "source": [
    "import yfinance as yf\n",
    "\n",
    "company = 'TATAELXSI.NS'\n",
    "\n",
    "# Define a start date and End Date\n",
    "start = dt.datetime(2019,1,1)\n",
    "end =  dt.datetime(2023,1,1)\n",
    "\n",
    "# Read Stock Price Data \n",
    "data = yf.download(company, start , end)"
   ]
  },
  {
   "cell_type": "code",
   "execution_count": 70,
   "id": "8f1acff6",
   "metadata": {
    "scrolled": true
   },
   "outputs": [
    {
     "data": {
      "text/html": [
       "<div>\n",
       "<style scoped>\n",
       "    .dataframe tbody tr th:only-of-type {\n",
       "        vertical-align: middle;\n",
       "    }\n",
       "\n",
       "    .dataframe tbody tr th {\n",
       "        vertical-align: top;\n",
       "    }\n",
       "\n",
       "    .dataframe thead th {\n",
       "        text-align: right;\n",
       "    }\n",
       "</style>\n",
       "<table border=\"1\" class=\"dataframe\">\n",
       "  <thead>\n",
       "    <tr style=\"text-align: right;\">\n",
       "      <th></th>\n",
       "      <th>Open</th>\n",
       "      <th>High</th>\n",
       "      <th>Low</th>\n",
       "      <th>Close</th>\n",
       "      <th>Adj Close</th>\n",
       "      <th>Volume</th>\n",
       "    </tr>\n",
       "    <tr>\n",
       "      <th>Date</th>\n",
       "      <th></th>\n",
       "      <th></th>\n",
       "      <th></th>\n",
       "      <th></th>\n",
       "      <th></th>\n",
       "      <th></th>\n",
       "    </tr>\n",
       "  </thead>\n",
       "  <tbody>\n",
       "    <tr>\n",
       "      <th>2019-01-01</th>\n",
       "      <td>1024.449951</td>\n",
       "      <td>1035.500000</td>\n",
       "      <td>1020.849976</td>\n",
       "      <td>1026.750000</td>\n",
       "      <td>966.420044</td>\n",
       "      <td>671934</td>\n",
       "    </tr>\n",
       "    <tr>\n",
       "      <th>2019-01-02</th>\n",
       "      <td>1029.000000</td>\n",
       "      <td>1042.000000</td>\n",
       "      <td>1020.000000</td>\n",
       "      <td>1024.800049</td>\n",
       "      <td>964.584656</td>\n",
       "      <td>827581</td>\n",
       "    </tr>\n",
       "    <tr>\n",
       "      <th>2019-01-03</th>\n",
       "      <td>1030.000000</td>\n",
       "      <td>1037.900024</td>\n",
       "      <td>1025.000000</td>\n",
       "      <td>1029.699951</td>\n",
       "      <td>969.196655</td>\n",
       "      <td>477746</td>\n",
       "    </tr>\n",
       "    <tr>\n",
       "      <th>2019-01-04</th>\n",
       "      <td>1030.000000</td>\n",
       "      <td>1035.000000</td>\n",
       "      <td>984.049988</td>\n",
       "      <td>1003.900024</td>\n",
       "      <td>944.912659</td>\n",
       "      <td>1194424</td>\n",
       "    </tr>\n",
       "    <tr>\n",
       "      <th>2019-01-07</th>\n",
       "      <td>1011.000000</td>\n",
       "      <td>1013.599976</td>\n",
       "      <td>970.000000</td>\n",
       "      <td>978.450012</td>\n",
       "      <td>920.958069</td>\n",
       "      <td>1225753</td>\n",
       "    </tr>\n",
       "    <tr>\n",
       "      <th>...</th>\n",
       "      <td>...</td>\n",
       "      <td>...</td>\n",
       "      <td>...</td>\n",
       "      <td>...</td>\n",
       "      <td>...</td>\n",
       "      <td>...</td>\n",
       "    </tr>\n",
       "    <tr>\n",
       "      <th>2022-12-26</th>\n",
       "      <td>5840.000000</td>\n",
       "      <td>6290.000000</td>\n",
       "      <td>5709.049805</td>\n",
       "      <td>6252.649902</td>\n",
       "      <td>6252.649902</td>\n",
       "      <td>619866</td>\n",
       "    </tr>\n",
       "    <tr>\n",
       "      <th>2022-12-27</th>\n",
       "      <td>6349.700195</td>\n",
       "      <td>6495.000000</td>\n",
       "      <td>6312.000000</td>\n",
       "      <td>6431.649902</td>\n",
       "      <td>6431.649902</td>\n",
       "      <td>471338</td>\n",
       "    </tr>\n",
       "    <tr>\n",
       "      <th>2022-12-28</th>\n",
       "      <td>6365.049805</td>\n",
       "      <td>6417.000000</td>\n",
       "      <td>6307.950195</td>\n",
       "      <td>6332.049805</td>\n",
       "      <td>6332.049805</td>\n",
       "      <td>203048</td>\n",
       "    </tr>\n",
       "    <tr>\n",
       "      <th>2022-12-29</th>\n",
       "      <td>6280.000000</td>\n",
       "      <td>6295.000000</td>\n",
       "      <td>6228.000000</td>\n",
       "      <td>6256.399902</td>\n",
       "      <td>6256.399902</td>\n",
       "      <td>137789</td>\n",
       "    </tr>\n",
       "    <tr>\n",
       "      <th>2022-12-30</th>\n",
       "      <td>6337.000000</td>\n",
       "      <td>6440.000000</td>\n",
       "      <td>6254.000000</td>\n",
       "      <td>6285.899902</td>\n",
       "      <td>6285.899902</td>\n",
       "      <td>206310</td>\n",
       "    </tr>\n",
       "  </tbody>\n",
       "</table>\n",
       "<p>990 rows × 6 columns</p>\n",
       "</div>"
      ],
      "text/plain": [
       "                   Open         High          Low        Close    Adj Close  \\\n",
       "Date                                                                          \n",
       "2019-01-01  1024.449951  1035.500000  1020.849976  1026.750000   966.420044   \n",
       "2019-01-02  1029.000000  1042.000000  1020.000000  1024.800049   964.584656   \n",
       "2019-01-03  1030.000000  1037.900024  1025.000000  1029.699951   969.196655   \n",
       "2019-01-04  1030.000000  1035.000000   984.049988  1003.900024   944.912659   \n",
       "2019-01-07  1011.000000  1013.599976   970.000000   978.450012   920.958069   \n",
       "...                 ...          ...          ...          ...          ...   \n",
       "2022-12-26  5840.000000  6290.000000  5709.049805  6252.649902  6252.649902   \n",
       "2022-12-27  6349.700195  6495.000000  6312.000000  6431.649902  6431.649902   \n",
       "2022-12-28  6365.049805  6417.000000  6307.950195  6332.049805  6332.049805   \n",
       "2022-12-29  6280.000000  6295.000000  6228.000000  6256.399902  6256.399902   \n",
       "2022-12-30  6337.000000  6440.000000  6254.000000  6285.899902  6285.899902   \n",
       "\n",
       "             Volume  \n",
       "Date                 \n",
       "2019-01-01   671934  \n",
       "2019-01-02   827581  \n",
       "2019-01-03   477746  \n",
       "2019-01-04  1194424  \n",
       "2019-01-07  1225753  \n",
       "...             ...  \n",
       "2022-12-26   619866  \n",
       "2022-12-27   471338  \n",
       "2022-12-28   203048  \n",
       "2022-12-29   137789  \n",
       "2022-12-30   206310  \n",
       "\n",
       "[990 rows x 6 columns]"
      ]
     },
     "execution_count": 70,
     "metadata": {},
     "output_type": "execute_result"
    }
   ],
   "source": [
    "data"
   ]
  },
  {
   "cell_type": "code",
   "execution_count": 71,
   "id": "bddff7fa",
   "metadata": {},
   "outputs": [],
   "source": [
    "df_tesla=data"
   ]
  },
  {
   "cell_type": "code",
   "execution_count": 72,
   "id": "4660a31e",
   "metadata": {},
   "outputs": [
    {
     "data": {
      "text/plain": [
       "Date\n",
       "2019-01-01    1035.500000\n",
       "2019-01-02    1042.000000\n",
       "2019-01-03    1037.900024\n",
       "2019-01-04    1035.000000\n",
       "2019-01-07    1013.599976\n",
       "                 ...     \n",
       "2022-12-26    6290.000000\n",
       "2022-12-27    6495.000000\n",
       "2022-12-28    6417.000000\n",
       "2022-12-29    6295.000000\n",
       "2022-12-30    6440.000000\n",
       "Name: High, Length: 990, dtype: float64"
      ]
     },
     "execution_count": 72,
     "metadata": {},
     "output_type": "execute_result"
    }
   ],
   "source": [
    "df_tesla['High']"
   ]
  },
  {
   "cell_type": "code",
   "execution_count": 73,
   "id": "d12f1629",
   "metadata": {},
   "outputs": [
    {
     "data": {
      "text/plain": [
       "<AxesSubplot:xlabel='Date'>"
      ]
     },
     "execution_count": 73,
     "metadata": {},
     "output_type": "execute_result"
    },
    {
     "data": {
      "image/png": "[encoded data removed]",
      "text/plain": [
       "<Figure size 864x288 with 1 Axes>"
      ]
     },
     "metadata": {
      "needs_background": "light"
     },
     "output_type": "display_data"
    }
   ],
   "source": [
    "df_tesla['High'].plot(figsize=(12,4))"
   ]
  },
  {
   "cell_type": "code",
   "execution_count": 74,
   "id": "8d29bdfa",
   "metadata": {},
   "outputs": [
    {
     "data": {
      "text/plain": [
       "<AxesSubplot:xlabel='Date'>"
      ]
     },
     "execution_count": 74,
     "metadata": {},
     "output_type": "execute_result"
    },
    {
     "data": {
      "image/png": "[encoded data removed]",
      "text/plain": [
       "<Figure size 864x360 with 1 Axes>"
      ]
     },
     "metadata": {
      "needs_background": "light"
     },
     "output_type": "display_data"
    }
   ],
   "source": [
    "## xlimit and y limit\n",
    "df_tesla['High'].plot(xlim=['2020-01-01','2021-09-01'], ylim=[300,3500],figsize=(12,5))"
   ]
  },
  {
   "cell_type": "code",
   "execution_count": 75,
   "id": "19376720",
   "metadata": {},
   "outputs": [
    {
     "data": {
      "text/plain": [
       "<AxesSubplot:xlabel='Date'>"
      ]
     },
     "execution_count": 75,
     "metadata": {},
     "output_type": "execute_result"
    },
    {
     "data": {
      "image/png": "[encoded data removed]",
      "text/plain": [
       "<Figure size 864x360 with 1 Axes>"
      ]
     },
     "metadata": {
      "needs_background": "light"
     },
     "output_type": "display_data"
    }
   ],
   "source": [
    "## xlimit and y limit and coloring\n",
    "df_tesla['High'].plot(xlim=['2020-01-01','2021-09-01'], ylim=[300,3500],figsize=(12,5), ls='--',c='green')"
   ]
  },
  {
   "cell_type": "code",
   "execution_count": 76,
   "id": "8976770f",
   "metadata": {},
   "outputs": [],
   "source": [
    "a=df_tesla.index"
   ]
  },
  {
   "cell_type": "code",
   "execution_count": 77,
   "id": "1492f4d7",
   "metadata": {},
   "outputs": [
    {
     "data": {
      "text/plain": [
       "DatetimeIndex(['2019-01-01', '2019-01-02', '2019-01-03', '2019-01-04',\n",
       "               '2019-01-07', '2019-01-08', '2019-01-09', '2019-01-10',\n",
       "               '2019-01-11', '2019-01-14',\n",
       "               ...\n",
       "               '2022-12-19', '2022-12-20', '2022-12-21', '2022-12-22',\n",
       "               '2022-12-23', '2022-12-26', '2022-12-27', '2022-12-28',\n",
       "               '2022-12-29', '2022-12-30'],\n",
       "              dtype='datetime64[ns]', name='Date', length=990, freq=None)"
      ]
     },
     "execution_count": 77,
     "metadata": {},
     "output_type": "execute_result"
    }
   ],
   "source": [
    "a"
   ]
  },
  {
   "cell_type": "code",
   "execution_count": 78,
   "id": "a83db3b1",
   "metadata": {},
   "outputs": [
    {
     "data": {
      "text/plain": [
       "Timestamp('2019-01-01 00:00:00')"
      ]
     },
     "execution_count": 78,
     "metadata": {},
     "output_type": "execute_result"
    }
   ],
   "source": [
    "a[0]"
   ]
  },
  {
   "cell_type": "code",
   "execution_count": 79,
   "id": "2217d87b",
   "metadata": {},
   "outputs": [
    {
     "data": {
      "text/plain": [
       "DatetimeIndex(['2020-01-01', '2020-01-02', '2020-01-03', '2020-01-06',\n",
       "               '2020-01-07', '2020-01-08', '2020-01-09', '2020-01-10',\n",
       "               '2020-01-13', '2020-01-14',\n",
       "               ...\n",
       "               '2021-08-18', '2021-08-20', '2021-08-23', '2021-08-24',\n",
       "               '2021-08-25', '2021-08-26', '2021-08-27', '2021-08-30',\n",
       "               '2021-08-31', '2021-09-01'],\n",
       "              dtype='datetime64[ns]', name='Date', length=416, freq=None)"
      ]
     },
     "execution_count": 79,
     "metadata": {},
     "output_type": "execute_result"
    }
   ],
   "source": [
    "##to read specific index/ row location use loc\n",
    "df_tesla.loc['2020-01-01 ':'2021-09-01'].index"
   ]
  },
  {
   "cell_type": "code",
   "execution_count": 80,
   "id": "24b3f60b",
   "metadata": {},
   "outputs": [],
   "source": [
    "index=df_tesla.loc['2020-01-01 ':'2021-09-01'].index\n",
    "share_open=df_tesla.loc['2020-01-01 ':'2021-09-01']['Open']"
   ]
  },
  {
   "cell_type": "code",
   "execution_count": 81,
   "id": "611ba6fa",
   "metadata": {},
   "outputs": [
    {
     "data": {
      "text/plain": [
       "Date\n",
       "2020-01-01     827.900024\n",
       "2020-01-02     829.799988\n",
       "2020-01-03     828.000000\n",
       "2020-01-06     835.000000\n",
       "2020-01-07     830.000000\n",
       "                 ...     \n",
       "2021-08-26    4830.000000\n",
       "2021-08-27    4861.600098\n",
       "2021-08-30    4906.000000\n",
       "2021-08-31    4840.000000\n",
       "2021-09-01    4800.000000\n",
       "Name: Open, Length: 416, dtype: float64"
      ]
     },
     "execution_count": 81,
     "metadata": {},
     "output_type": "execute_result"
    }
   ],
   "source": [
    "share_open"
   ]
  },
  {
   "cell_type": "code",
   "execution_count": 82,
   "id": "9e9b4f7c",
   "metadata": {},
   "outputs": [
    {
     "data": {
      "text/html": [
       "<div>\n",
       "<style scoped>\n",
       "    .dataframe tbody tr th:only-of-type {\n",
       "        vertical-align: middle;\n",
       "    }\n",
       "\n",
       "    .dataframe tbody tr th {\n",
       "        vertical-align: top;\n",
       "    }\n",
       "\n",
       "    .dataframe thead th {\n",
       "        text-align: right;\n",
       "    }\n",
       "</style>\n",
       "<table border=\"1\" class=\"dataframe\">\n",
       "  <thead>\n",
       "    <tr style=\"text-align: right;\">\n",
       "      <th></th>\n",
       "      <th>Open</th>\n",
       "      <th>High</th>\n",
       "      <th>Low</th>\n",
       "      <th>Close</th>\n",
       "      <th>Adj Close</th>\n",
       "      <th>Volume</th>\n",
       "    </tr>\n",
       "    <tr>\n",
       "      <th>Date</th>\n",
       "      <th></th>\n",
       "      <th></th>\n",
       "      <th></th>\n",
       "      <th></th>\n",
       "      <th></th>\n",
       "      <th></th>\n",
       "    </tr>\n",
       "  </thead>\n",
       "  <tbody>\n",
       "    <tr>\n",
       "      <th>2020-01-01</th>\n",
       "      <td>827.900024</td>\n",
       "      <td>831.400024</td>\n",
       "      <td>821.000000</td>\n",
       "      <td>827.849976</td>\n",
       "      <td>803.875244</td>\n",
       "      <td>263807</td>\n",
       "    </tr>\n",
       "    <tr>\n",
       "      <th>2020-01-02</th>\n",
       "      <td>829.799988</td>\n",
       "      <td>835.799988</td>\n",
       "      <td>823.299988</td>\n",
       "      <td>828.250000</td>\n",
       "      <td>804.263611</td>\n",
       "      <td>294367</td>\n",
       "    </tr>\n",
       "    <tr>\n",
       "      <th>2020-01-03</th>\n",
       "      <td>828.000000</td>\n",
       "      <td>842.000000</td>\n",
       "      <td>821.549988</td>\n",
       "      <td>838.099976</td>\n",
       "      <td>813.828369</td>\n",
       "      <td>666116</td>\n",
       "    </tr>\n",
       "    <tr>\n",
       "      <th>2020-01-06</th>\n",
       "      <td>835.000000</td>\n",
       "      <td>835.000000</td>\n",
       "      <td>816.549988</td>\n",
       "      <td>823.400024</td>\n",
       "      <td>799.554138</td>\n",
       "      <td>301418</td>\n",
       "    </tr>\n",
       "    <tr>\n",
       "      <th>2020-01-07</th>\n",
       "      <td>830.000000</td>\n",
       "      <td>832.799988</td>\n",
       "      <td>821.750000</td>\n",
       "      <td>826.849976</td>\n",
       "      <td>802.904114</td>\n",
       "      <td>224550</td>\n",
       "    </tr>\n",
       "    <tr>\n",
       "      <th>...</th>\n",
       "      <td>...</td>\n",
       "      <td>...</td>\n",
       "      <td>...</td>\n",
       "      <td>...</td>\n",
       "      <td>...</td>\n",
       "      <td>...</td>\n",
       "    </tr>\n",
       "    <tr>\n",
       "      <th>2021-08-26</th>\n",
       "      <td>4830.000000</td>\n",
       "      <td>4924.000000</td>\n",
       "      <td>4811.149902</td>\n",
       "      <td>4861.600098</td>\n",
       "      <td>4836.963867</td>\n",
       "      <td>136051</td>\n",
       "    </tr>\n",
       "    <tr>\n",
       "      <th>2021-08-27</th>\n",
       "      <td>4861.600098</td>\n",
       "      <td>4926.500000</td>\n",
       "      <td>4793.000000</td>\n",
       "      <td>4868.649902</td>\n",
       "      <td>4843.978027</td>\n",
       "      <td>124341</td>\n",
       "    </tr>\n",
       "    <tr>\n",
       "      <th>2021-08-30</th>\n",
       "      <td>4906.000000</td>\n",
       "      <td>4912.450195</td>\n",
       "      <td>4800.000000</td>\n",
       "      <td>4826.750000</td>\n",
       "      <td>4802.290527</td>\n",
       "      <td>137887</td>\n",
       "    </tr>\n",
       "    <tr>\n",
       "      <th>2021-08-31</th>\n",
       "      <td>4840.000000</td>\n",
       "      <td>4860.000000</td>\n",
       "      <td>4750.000000</td>\n",
       "      <td>4770.950195</td>\n",
       "      <td>4746.773438</td>\n",
       "      <td>137157</td>\n",
       "    </tr>\n",
       "    <tr>\n",
       "      <th>2021-09-01</th>\n",
       "      <td>4800.000000</td>\n",
       "      <td>4900.000000</td>\n",
       "      <td>4800.000000</td>\n",
       "      <td>4848.500000</td>\n",
       "      <td>4823.930176</td>\n",
       "      <td>129752</td>\n",
       "    </tr>\n",
       "  </tbody>\n",
       "</table>\n",
       "<p>416 rows × 6 columns</p>\n",
       "</div>"
      ],
      "text/plain": [
       "                   Open         High          Low        Close    Adj Close  \\\n",
       "Date                                                                          \n",
       "2020-01-01   827.900024   831.400024   821.000000   827.849976   803.875244   \n",
       "2020-01-02   829.799988   835.799988   823.299988   828.250000   804.263611   \n",
       "2020-01-03   828.000000   842.000000   821.549988   838.099976   813.828369   \n",
       "2020-01-06   835.000000   835.000000   816.549988   823.400024   799.554138   \n",
       "2020-01-07   830.000000   832.799988   821.750000   826.849976   802.904114   \n",
       "...                 ...          ...          ...          ...          ...   \n",
       "2021-08-26  4830.000000  4924.000000  4811.149902  4861.600098  4836.963867   \n",
       "2021-08-27  4861.600098  4926.500000  4793.000000  4868.649902  4843.978027   \n",
       "2021-08-30  4906.000000  4912.450195  4800.000000  4826.750000  4802.290527   \n",
       "2021-08-31  4840.000000  4860.000000  4750.000000  4770.950195  4746.773438   \n",
       "2021-09-01  4800.000000  4900.000000  4800.000000  4848.500000  4823.930176   \n",
       "\n",
       "            Volume  \n",
       "Date                \n",
       "2020-01-01  263807  \n",
       "2020-01-02  294367  \n",
       "2020-01-03  666116  \n",
       "2020-01-06  301418  \n",
       "2020-01-07  224550  \n",
       "...            ...  \n",
       "2021-08-26  136051  \n",
       "2021-08-27  124341  \n",
       "2021-08-30  137887  \n",
       "2021-08-31  137157  \n",
       "2021-09-01  129752  \n",
       "\n",
       "[416 rows x 6 columns]"
      ]
     },
     "execution_count": 82,
     "metadata": {},
     "output_type": "execute_result"
    }
   ],
   "source": [
    "df_tesla.loc['2020-01-01 ':'2021-09-01']"
   ]
  },
  {
   "cell_type": "code",
   "execution_count": 83,
   "id": "ee0efb4f",
   "metadata": {},
   "outputs": [],
   "source": [
    "## draw a sub plot\n",
    "import matplotlib.pyplot as plt\n",
    "%matplotlib inline"
   ]
  },
  {
   "cell_type": "code",
   "execution_count": 84,
   "id": "b9ff2594",
   "metadata": {},
   "outputs": [
    {
     "data": {
      "text/plain": [
       "[<matplotlib.lines.Line2D at 0x1901cc718e0>]"
      ]
     },
     "execution_count": 84,
     "metadata": {},
     "output_type": "execute_result"
    },
    {
     "data": {
      "image/png": "[encoded data removed]",
      "text/plain": [
       "<Figure size 432x288 with 1 Axes>"
      ]
     },
     "metadata": {
      "needs_background": "light"
     },
     "output_type": "display_data"
    }
   ],
   "source": [
    "figure,axis=plt.subplots()\n",
    "axis.plot(index, share_open)"
   ]
  },
  {
   "cell_type": "code",
   "execution_count": 85,
   "id": "f5d8fb6c",
   "metadata": {},
   "outputs": [
    {
     "data": {
      "text/plain": [
       "[<matplotlib.lines.Line2D at 0x19017688220>]"
      ]
     },
     "execution_count": 85,
     "metadata": {},
     "output_type": "execute_result"
    },
    {
     "data": {
      "image/png": "[encoded data removed]",
      "text/plain": [
       "<Figure size 432x288 with 1 Axes>"
      ]
     },
     "metadata": {
      "needs_background": "light"
     },
     "output_type": "display_data"
    }
   ],
   "source": [
    "figure,axis=plt.subplots()\n",
    "plt.tight_layout()\n",
    "## preveting overlapping\n",
    "figure.autofmt_xdate()\n",
    "axis.plot(index, share_open)"
   ]
  },
  {
   "cell_type": "code",
   "execution_count": 86,
   "id": "58fae3ce",
   "metadata": {},
   "outputs": [
    {
     "name": "stdout",
     "output_type": "stream",
     "text": [
      "<class 'pandas.core.frame.DataFrame'>\n",
      "DatetimeIndex: 990 entries, 2019-01-01 to 2022-12-30\n",
      "Data columns (total 6 columns):\n",
      " #   Column     Non-Null Count  Dtype  \n",
      "---  ------     --------------  -----  \n",
      " 0   Open       990 non-null    float64\n",
      " 1   High       990 non-null    float64\n",
      " 2   Low        990 non-null    float64\n",
      " 3   Close      990 non-null    float64\n",
      " 4   Adj Close  990 non-null    float64\n",
      " 5   Volume     990 non-null    int64  \n",
      "dtypes: float64(5), int64(1)\n",
      "memory usage: 86.4 KB\n"
     ]
    }
   ],
   "source": [
    "### Datetime index\n",
    "df_tesla.info()\n"
   ]
  },
  {
   "cell_type": "code",
   "execution_count": 87,
   "id": "5fb89179",
   "metadata": {},
   "outputs": [],
   "source": [
    "##convert datetime index to a proper column by reset_index()\n",
    "df_tesla=df_tesla.reset_index()"
   ]
  },
  {
   "cell_type": "code",
   "execution_count": 88,
   "id": "5c007cf1",
   "metadata": {},
   "outputs": [
    {
     "name": "stdout",
     "output_type": "stream",
     "text": [
      "<class 'pandas.core.frame.DataFrame'>\n",
      "RangeIndex: 990 entries, 0 to 989\n",
      "Data columns (total 7 columns):\n",
      " #   Column     Non-Null Count  Dtype         \n",
      "---  ------     --------------  -----         \n",
      " 0   Date       990 non-null    datetime64[ns]\n",
      " 1   Open       990 non-null    float64       \n",
      " 2   High       990 non-null    float64       \n",
      " 3   Low        990 non-null    float64       \n",
      " 4   Close      990 non-null    float64       \n",
      " 5   Adj Close  990 non-null    float64       \n",
      " 6   Volume     990 non-null    int64         \n",
      "dtypes: datetime64[ns](1), float64(5), int64(1)\n",
      "memory usage: 54.3 KB\n"
     ]
    }
   ],
   "source": [
    "df_tesla.info()\n",
    "## by default type of Date is datetime64 type\n",
    "## it is in date time format, it is good\n",
    "## but if it is in object format, then covnert to datetime format"
   ]
  },
  {
   "cell_type": "code",
   "execution_count": 89,
   "id": "53a7ce50",
   "metadata": {},
   "outputs": [
    {
     "data": {
      "text/plain": [
       "0     2019-01-01\n",
       "1     2019-01-02\n",
       "2     2019-01-03\n",
       "3     2019-01-04\n",
       "4     2019-01-07\n",
       "         ...    \n",
       "985   2022-12-26\n",
       "986   2022-12-27\n",
       "987   2022-12-28\n",
       "988   2022-12-29\n",
       "989   2022-12-30\n",
       "Name: Date, Length: 990, dtype: datetime64[ns]"
      ]
     },
     "execution_count": 89,
     "metadata": {},
     "output_type": "execute_result"
    }
   ],
   "source": [
    "## always convert datetime object type to int\n",
    "## if it is object then it will automatically convert to datetime format\n",
    "pd.to_datetime(df_tesla['Date'])"
   ]
  },
  {
   "cell_type": "code",
   "execution_count": 90,
   "id": "dd986a8c",
   "metadata": {},
   "outputs": [
    {
     "data": {
      "text/html": [
       "<div>\n",
       "<style scoped>\n",
       "    .dataframe tbody tr th:only-of-type {\n",
       "        vertical-align: middle;\n",
       "    }\n",
       "\n",
       "    .dataframe tbody tr th {\n",
       "        vertical-align: top;\n",
       "    }\n",
       "\n",
       "    .dataframe thead th {\n",
       "        text-align: right;\n",
       "    }\n",
       "</style>\n",
       "<table border=\"1\" class=\"dataframe\">\n",
       "  <thead>\n",
       "    <tr style=\"text-align: right;\">\n",
       "      <th></th>\n",
       "      <th>Date</th>\n",
       "      <th>Open</th>\n",
       "      <th>High</th>\n",
       "      <th>Low</th>\n",
       "      <th>Close</th>\n",
       "      <th>Adj Close</th>\n",
       "      <th>Volume</th>\n",
       "    </tr>\n",
       "  </thead>\n",
       "  <tbody>\n",
       "    <tr>\n",
       "      <th>0</th>\n",
       "      <td>2019-01-01</td>\n",
       "      <td>1024.449951</td>\n",
       "      <td>1035.500000</td>\n",
       "      <td>1020.849976</td>\n",
       "      <td>1026.750000</td>\n",
       "      <td>966.420044</td>\n",
       "      <td>671934</td>\n",
       "    </tr>\n",
       "    <tr>\n",
       "      <th>1</th>\n",
       "      <td>2019-01-02</td>\n",
       "      <td>1029.000000</td>\n",
       "      <td>1042.000000</td>\n",
       "      <td>1020.000000</td>\n",
       "      <td>1024.800049</td>\n",
       "      <td>964.584656</td>\n",
       "      <td>827581</td>\n",
       "    </tr>\n",
       "    <tr>\n",
       "      <th>2</th>\n",
       "      <td>2019-01-03</td>\n",
       "      <td>1030.000000</td>\n",
       "      <td>1037.900024</td>\n",
       "      <td>1025.000000</td>\n",
       "      <td>1029.699951</td>\n",
       "      <td>969.196655</td>\n",
       "      <td>477746</td>\n",
       "    </tr>\n",
       "    <tr>\n",
       "      <th>3</th>\n",
       "      <td>2019-01-04</td>\n",
       "      <td>1030.000000</td>\n",
       "      <td>1035.000000</td>\n",
       "      <td>984.049988</td>\n",
       "      <td>1003.900024</td>\n",
       "      <td>944.912659</td>\n",
       "      <td>1194424</td>\n",
       "    </tr>\n",
       "    <tr>\n",
       "      <th>4</th>\n",
       "      <td>2019-01-07</td>\n",
       "      <td>1011.000000</td>\n",
       "      <td>1013.599976</td>\n",
       "      <td>970.000000</td>\n",
       "      <td>978.450012</td>\n",
       "      <td>920.958069</td>\n",
       "      <td>1225753</td>\n",
       "    </tr>\n",
       "    <tr>\n",
       "      <th>...</th>\n",
       "      <td>...</td>\n",
       "      <td>...</td>\n",
       "      <td>...</td>\n",
       "      <td>...</td>\n",
       "      <td>...</td>\n",
       "      <td>...</td>\n",
       "      <td>...</td>\n",
       "    </tr>\n",
       "    <tr>\n",
       "      <th>985</th>\n",
       "      <td>2022-12-26</td>\n",
       "      <td>5840.000000</td>\n",
       "      <td>6290.000000</td>\n",
       "      <td>5709.049805</td>\n",
       "      <td>6252.649902</td>\n",
       "      <td>6252.649902</td>\n",
       "      <td>619866</td>\n",
       "    </tr>\n",
       "    <tr>\n",
       "      <th>986</th>\n",
       "      <td>2022-12-27</td>\n",
       "      <td>6349.700195</td>\n",
       "      <td>6495.000000</td>\n",
       "      <td>6312.000000</td>\n",
       "      <td>6431.649902</td>\n",
       "      <td>6431.649902</td>\n",
       "      <td>471338</td>\n",
       "    </tr>\n",
       "    <tr>\n",
       "      <th>987</th>\n",
       "      <td>2022-12-28</td>\n",
       "      <td>6365.049805</td>\n",
       "      <td>6417.000000</td>\n",
       "      <td>6307.950195</td>\n",
       "      <td>6332.049805</td>\n",
       "      <td>6332.049805</td>\n",
       "      <td>203048</td>\n",
       "    </tr>\n",
       "    <tr>\n",
       "      <th>988</th>\n",
       "      <td>2022-12-29</td>\n",
       "      <td>6280.000000</td>\n",
       "      <td>6295.000000</td>\n",
       "      <td>6228.000000</td>\n",
       "      <td>6256.399902</td>\n",
       "      <td>6256.399902</td>\n",
       "      <td>137789</td>\n",
       "    </tr>\n",
       "    <tr>\n",
       "      <th>989</th>\n",
       "      <td>2022-12-30</td>\n",
       "      <td>6337.000000</td>\n",
       "      <td>6440.000000</td>\n",
       "      <td>6254.000000</td>\n",
       "      <td>6285.899902</td>\n",
       "      <td>6285.899902</td>\n",
       "      <td>206310</td>\n",
       "    </tr>\n",
       "  </tbody>\n",
       "</table>\n",
       "<p>990 rows × 7 columns</p>\n",
       "</div>"
      ],
      "text/plain": [
       "          Date         Open         High          Low        Close  \\\n",
       "0   2019-01-01  1024.449951  1035.500000  1020.849976  1026.750000   \n",
       "1   2019-01-02  1029.000000  1042.000000  1020.000000  1024.800049   \n",
       "2   2019-01-03  1030.000000  1037.900024  1025.000000  1029.699951   \n",
       "3   2019-01-04  1030.000000  1035.000000   984.049988  1003.900024   \n",
       "4   2019-01-07  1011.000000  1013.599976   970.000000   978.450012   \n",
       "..         ...          ...          ...          ...          ...   \n",
       "985 2022-12-26  5840.000000  6290.000000  5709.049805  6252.649902   \n",
       "986 2022-12-27  6349.700195  6495.000000  6312.000000  6431.649902   \n",
       "987 2022-12-28  6365.049805  6417.000000  6307.950195  6332.049805   \n",
       "988 2022-12-29  6280.000000  6295.000000  6228.000000  6256.399902   \n",
       "989 2022-12-30  6337.000000  6440.000000  6254.000000  6285.899902   \n",
       "\n",
       "       Adj Close   Volume  \n",
       "0     966.420044   671934  \n",
       "1     964.584656   827581  \n",
       "2     969.196655   477746  \n",
       "3     944.912659  1194424  \n",
       "4     920.958069  1225753  \n",
       "..           ...      ...  \n",
       "985  6252.649902   619866  \n",
       "986  6431.649902   471338  \n",
       "987  6332.049805   203048  \n",
       "988  6256.399902   137789  \n",
       "989  6285.899902   206310  \n",
       "\n",
       "[990 rows x 7 columns]"
      ]
     },
     "execution_count": 90,
     "metadata": {},
     "output_type": "execute_result"
    }
   ],
   "source": [
    "df_tesla"
   ]
  },
  {
   "cell_type": "code",
   "execution_count": 91,
   "id": "de9d3954",
   "metadata": {},
   "outputs": [],
   "source": [
    "## revet date to index\n",
    "df_tesla=df_tesla.set_index('Date', drop=True)"
   ]
  },
  {
   "cell_type": "code",
   "execution_count": 92,
   "id": "f720d68f",
   "metadata": {},
   "outputs": [
    {
     "data": {
      "text/html": [
       "<div>\n",
       "<style scoped>\n",
       "    .dataframe tbody tr th:only-of-type {\n",
       "        vertical-align: middle;\n",
       "    }\n",
       "\n",
       "    .dataframe tbody tr th {\n",
       "        vertical-align: top;\n",
       "    }\n",
       "\n",
       "    .dataframe thead th {\n",
       "        text-align: right;\n",
       "    }\n",
       "</style>\n",
       "<table border=\"1\" class=\"dataframe\">\n",
       "  <thead>\n",
       "    <tr style=\"text-align: right;\">\n",
       "      <th></th>\n",
       "      <th>Open</th>\n",
       "      <th>High</th>\n",
       "      <th>Low</th>\n",
       "      <th>Close</th>\n",
       "      <th>Adj Close</th>\n",
       "      <th>Volume</th>\n",
       "    </tr>\n",
       "    <tr>\n",
       "      <th>Date</th>\n",
       "      <th></th>\n",
       "      <th></th>\n",
       "      <th></th>\n",
       "      <th></th>\n",
       "      <th></th>\n",
       "      <th></th>\n",
       "    </tr>\n",
       "  </thead>\n",
       "  <tbody>\n",
       "    <tr>\n",
       "      <th>2019-01-01</th>\n",
       "      <td>1024.449951</td>\n",
       "      <td>1035.500000</td>\n",
       "      <td>1020.849976</td>\n",
       "      <td>1026.750000</td>\n",
       "      <td>966.420044</td>\n",
       "      <td>671934</td>\n",
       "    </tr>\n",
       "    <tr>\n",
       "      <th>2019-01-02</th>\n",
       "      <td>1029.000000</td>\n",
       "      <td>1042.000000</td>\n",
       "      <td>1020.000000</td>\n",
       "      <td>1024.800049</td>\n",
       "      <td>964.584656</td>\n",
       "      <td>827581</td>\n",
       "    </tr>\n",
       "    <tr>\n",
       "      <th>2019-01-03</th>\n",
       "      <td>1030.000000</td>\n",
       "      <td>1037.900024</td>\n",
       "      <td>1025.000000</td>\n",
       "      <td>1029.699951</td>\n",
       "      <td>969.196655</td>\n",
       "      <td>477746</td>\n",
       "    </tr>\n",
       "    <tr>\n",
       "      <th>2019-01-04</th>\n",
       "      <td>1030.000000</td>\n",
       "      <td>1035.000000</td>\n",
       "      <td>984.049988</td>\n",
       "      <td>1003.900024</td>\n",
       "      <td>944.912659</td>\n",
       "      <td>1194424</td>\n",
       "    </tr>\n",
       "    <tr>\n",
       "      <th>2019-01-07</th>\n",
       "      <td>1011.000000</td>\n",
       "      <td>1013.599976</td>\n",
       "      <td>970.000000</td>\n",
       "      <td>978.450012</td>\n",
       "      <td>920.958069</td>\n",
       "      <td>1225753</td>\n",
       "    </tr>\n",
       "    <tr>\n",
       "      <th>...</th>\n",
       "      <td>...</td>\n",
       "      <td>...</td>\n",
       "      <td>...</td>\n",
       "      <td>...</td>\n",
       "      <td>...</td>\n",
       "      <td>...</td>\n",
       "    </tr>\n",
       "    <tr>\n",
       "      <th>2022-12-26</th>\n",
       "      <td>5840.000000</td>\n",
       "      <td>6290.000000</td>\n",
       "      <td>5709.049805</td>\n",
       "      <td>6252.649902</td>\n",
       "      <td>6252.649902</td>\n",
       "      <td>619866</td>\n",
       "    </tr>\n",
       "    <tr>\n",
       "      <th>2022-12-27</th>\n",
       "      <td>6349.700195</td>\n",
       "      <td>6495.000000</td>\n",
       "      <td>6312.000000</td>\n",
       "      <td>6431.649902</td>\n",
       "      <td>6431.649902</td>\n",
       "      <td>471338</td>\n",
       "    </tr>\n",
       "    <tr>\n",
       "      <th>2022-12-28</th>\n",
       "      <td>6365.049805</td>\n",
       "      <td>6417.000000</td>\n",
       "      <td>6307.950195</td>\n",
       "      <td>6332.049805</td>\n",
       "      <td>6332.049805</td>\n",
       "      <td>203048</td>\n",
       "    </tr>\n",
       "    <tr>\n",
       "      <th>2022-12-29</th>\n",
       "      <td>6280.000000</td>\n",
       "      <td>6295.000000</td>\n",
       "      <td>6228.000000</td>\n",
       "      <td>6256.399902</td>\n",
       "      <td>6256.399902</td>\n",
       "      <td>137789</td>\n",
       "    </tr>\n",
       "    <tr>\n",
       "      <th>2022-12-30</th>\n",
       "      <td>6337.000000</td>\n",
       "      <td>6440.000000</td>\n",
       "      <td>6254.000000</td>\n",
       "      <td>6285.899902</td>\n",
       "      <td>6285.899902</td>\n",
       "      <td>206310</td>\n",
       "    </tr>\n",
       "  </tbody>\n",
       "</table>\n",
       "<p>990 rows × 6 columns</p>\n",
       "</div>"
      ],
      "text/plain": [
       "                   Open         High          Low        Close    Adj Close  \\\n",
       "Date                                                                          \n",
       "2019-01-01  1024.449951  1035.500000  1020.849976  1026.750000   966.420044   \n",
       "2019-01-02  1029.000000  1042.000000  1020.000000  1024.800049   964.584656   \n",
       "2019-01-03  1030.000000  1037.900024  1025.000000  1029.699951   969.196655   \n",
       "2019-01-04  1030.000000  1035.000000   984.049988  1003.900024   944.912659   \n",
       "2019-01-07  1011.000000  1013.599976   970.000000   978.450012   920.958069   \n",
       "...                 ...          ...          ...          ...          ...   \n",
       "2022-12-26  5840.000000  6290.000000  5709.049805  6252.649902  6252.649902   \n",
       "2022-12-27  6349.700195  6495.000000  6312.000000  6431.649902  6431.649902   \n",
       "2022-12-28  6365.049805  6417.000000  6307.950195  6332.049805  6332.049805   \n",
       "2022-12-29  6280.000000  6295.000000  6228.000000  6256.399902  6256.399902   \n",
       "2022-12-30  6337.000000  6440.000000  6254.000000  6285.899902  6285.899902   \n",
       "\n",
       "             Volume  \n",
       "Date                 \n",
       "2019-01-01   671934  \n",
       "2019-01-02   827581  \n",
       "2019-01-03   477746  \n",
       "2019-01-04  1194424  \n",
       "2019-01-07  1225753  \n",
       "...             ...  \n",
       "2022-12-26   619866  \n",
       "2022-12-27   471338  \n",
       "2022-12-28   203048  \n",
       "2022-12-29   137789  \n",
       "2022-12-30   206310  \n",
       "\n",
       "[990 rows x 6 columns]"
      ]
     },
     "execution_count": 92,
     "metadata": {},
     "output_type": "execute_result"
    }
   ],
   "source": [
    "df_tesla"
   ]
  },
  {
   "cell_type": "code",
   "execution_count": 93,
   "id": "42c5b04b",
   "metadata": {},
   "outputs": [
    {
     "data": {
      "text/plain": [
       "datetime.datetime(2023, 2, 12, 15, 47, 30, 153331)"
      ]
     },
     "execution_count": 93,
     "metadata": {},
     "output_type": "execute_result"
    }
   ],
   "source": [
    "## datetime\n",
    "# as Date is of datetime oject so we should play with Datetime lib\n",
    "from datetime import datetime\n",
    "datetime.now()"
   ]
  },
  {
   "cell_type": "code",
   "execution_count": 94,
   "id": "39688899",
   "metadata": {},
   "outputs": [
    {
     "data": {
      "text/plain": [
       "datetime.date(2023, 12, 2)"
      ]
     },
     "execution_count": 94,
     "metadata": {},
     "output_type": "execute_result"
    }
   ],
   "source": [
    "date=datetime(2023, 12,2)\n",
    "date.date()"
   ]
  },
  {
   "cell_type": "code",
   "execution_count": 95,
   "id": "8950605e",
   "metadata": {},
   "outputs": [
    {
     "data": {
      "text/plain": [
       "2"
      ]
     },
     "execution_count": 95,
     "metadata": {},
     "output_type": "execute_result"
    }
   ],
   "source": [
    "date.day"
   ]
  },
  {
   "cell_type": "code",
   "execution_count": 96,
   "id": "a80fa963",
   "metadata": {},
   "outputs": [
    {
     "data": {
      "text/plain": [
       "5"
      ]
     },
     "execution_count": 96,
     "metadata": {},
     "output_type": "execute_result"
    }
   ],
   "source": [
    "date.weekday()"
   ]
  },
  {
   "cell_type": "code",
   "execution_count": 97,
   "id": "eb676af2",
   "metadata": {},
   "outputs": [
    {
     "data": {
      "text/plain": [
       "12"
      ]
     },
     "execution_count": 97,
     "metadata": {},
     "output_type": "execute_result"
    }
   ],
   "source": [
    "date.month"
   ]
  },
  {
   "cell_type": "markdown",
   "id": "dca5bd64",
   "metadata": {},
   "source": [
    "# TIME RESAMPLING"
   ]
  },
  {
   "cell_type": "code",
   "execution_count": 98,
   "id": "45b08d1c",
   "metadata": {},
   "outputs": [
    {
     "data": {
      "text/html": [
       "<div>\n",
       "<style scoped>\n",
       "    .dataframe tbody tr th:only-of-type {\n",
       "        vertical-align: middle;\n",
       "    }\n",
       "\n",
       "    .dataframe tbody tr th {\n",
       "        vertical-align: top;\n",
       "    }\n",
       "\n",
       "    .dataframe thead th {\n",
       "        text-align: right;\n",
       "    }\n",
       "</style>\n",
       "<table border=\"1\" class=\"dataframe\">\n",
       "  <thead>\n",
       "    <tr style=\"text-align: right;\">\n",
       "      <th></th>\n",
       "      <th>Open</th>\n",
       "      <th>High</th>\n",
       "      <th>Low</th>\n",
       "      <th>Close</th>\n",
       "      <th>Adj Close</th>\n",
       "      <th>Volume</th>\n",
       "    </tr>\n",
       "    <tr>\n",
       "      <th>Date</th>\n",
       "      <th></th>\n",
       "      <th></th>\n",
       "      <th></th>\n",
       "      <th></th>\n",
       "      <th></th>\n",
       "      <th></th>\n",
       "    </tr>\n",
       "  </thead>\n",
       "  <tbody>\n",
       "    <tr>\n",
       "      <th>2019-01-01</th>\n",
       "      <td>1024.449951</td>\n",
       "      <td>1035.500000</td>\n",
       "      <td>1020.849976</td>\n",
       "      <td>1026.750000</td>\n",
       "      <td>966.420044</td>\n",
       "      <td>671934</td>\n",
       "    </tr>\n",
       "    <tr>\n",
       "      <th>2019-01-02</th>\n",
       "      <td>1029.000000</td>\n",
       "      <td>1042.000000</td>\n",
       "      <td>1020.000000</td>\n",
       "      <td>1024.800049</td>\n",
       "      <td>964.584656</td>\n",
       "      <td>827581</td>\n",
       "    </tr>\n",
       "    <tr>\n",
       "      <th>2019-01-03</th>\n",
       "      <td>1030.000000</td>\n",
       "      <td>1037.900024</td>\n",
       "      <td>1025.000000</td>\n",
       "      <td>1029.699951</td>\n",
       "      <td>969.196655</td>\n",
       "      <td>477746</td>\n",
       "    </tr>\n",
       "    <tr>\n",
       "      <th>2019-01-04</th>\n",
       "      <td>1030.000000</td>\n",
       "      <td>1035.000000</td>\n",
       "      <td>984.049988</td>\n",
       "      <td>1003.900024</td>\n",
       "      <td>944.912659</td>\n",
       "      <td>1194424</td>\n",
       "    </tr>\n",
       "    <tr>\n",
       "      <th>2019-01-07</th>\n",
       "      <td>1011.000000</td>\n",
       "      <td>1013.599976</td>\n",
       "      <td>970.000000</td>\n",
       "      <td>978.450012</td>\n",
       "      <td>920.958069</td>\n",
       "      <td>1225753</td>\n",
       "    </tr>\n",
       "  </tbody>\n",
       "</table>\n",
       "</div>"
      ],
      "text/plain": [
       "                   Open         High          Low        Close   Adj Close  \\\n",
       "Date                                                                         \n",
       "2019-01-01  1024.449951  1035.500000  1020.849976  1026.750000  966.420044   \n",
       "2019-01-02  1029.000000  1042.000000  1020.000000  1024.800049  964.584656   \n",
       "2019-01-03  1030.000000  1037.900024  1025.000000  1029.699951  969.196655   \n",
       "2019-01-04  1030.000000  1035.000000   984.049988  1003.900024  944.912659   \n",
       "2019-01-07  1011.000000  1013.599976   970.000000   978.450012  920.958069   \n",
       "\n",
       "             Volume  \n",
       "Date                 \n",
       "2019-01-01   671934  \n",
       "2019-01-02   827581  \n",
       "2019-01-03   477746  \n",
       "2019-01-04  1194424  \n",
       "2019-01-07  1225753  "
      ]
     },
     "execution_count": 98,
     "metadata": {},
     "output_type": "execute_result"
    }
   ],
   "source": [
    "df_tesla.head()"
   ]
  },
  {
   "cell_type": "code",
   "execution_count": 99,
   "id": "905d52ca",
   "metadata": {},
   "outputs": [
    {
     "data": {
      "text/html": [
       "<div>\n",
       "<style scoped>\n",
       "    .dataframe tbody tr th:only-of-type {\n",
       "        vertical-align: middle;\n",
       "    }\n",
       "\n",
       "    .dataframe tbody tr th {\n",
       "        vertical-align: top;\n",
       "    }\n",
       "\n",
       "    .dataframe thead th {\n",
       "        text-align: right;\n",
       "    }\n",
       "</style>\n",
       "<table border=\"1\" class=\"dataframe\">\n",
       "  <thead>\n",
       "    <tr style=\"text-align: right;\">\n",
       "      <th></th>\n",
       "      <th>Open</th>\n",
       "      <th>High</th>\n",
       "      <th>Low</th>\n",
       "      <th>Close</th>\n",
       "      <th>Adj Close</th>\n",
       "      <th>Volume</th>\n",
       "    </tr>\n",
       "    <tr>\n",
       "      <th>Date</th>\n",
       "      <th></th>\n",
       "      <th></th>\n",
       "      <th></th>\n",
       "      <th></th>\n",
       "      <th></th>\n",
       "      <th></th>\n",
       "    </tr>\n",
       "  </thead>\n",
       "  <tbody>\n",
       "    <tr>\n",
       "      <th>2019-12-31</th>\n",
       "      <td>602.799988</td>\n",
       "      <td>618.299988</td>\n",
       "      <td>592.250000</td>\n",
       "      <td>604.500000</td>\n",
       "      <td>586.993530</td>\n",
       "      <td>187554</td>\n",
       "    </tr>\n",
       "    <tr>\n",
       "      <th>2020-12-31</th>\n",
       "      <td>540.000000</td>\n",
       "      <td>569.000000</td>\n",
       "      <td>499.950012</td>\n",
       "      <td>544.400024</td>\n",
       "      <td>528.634094</td>\n",
       "      <td>63716</td>\n",
       "    </tr>\n",
       "    <tr>\n",
       "      <th>2021-12-31</th>\n",
       "      <td>1843.000000</td>\n",
       "      <td>1875.000000</td>\n",
       "      <td>1837.000000</td>\n",
       "      <td>1867.949951</td>\n",
       "      <td>1846.669922</td>\n",
       "      <td>40009</td>\n",
       "    </tr>\n",
       "    <tr>\n",
       "      <th>2022-12-31</th>\n",
       "      <td>5840.000000</td>\n",
       "      <td>5901.750000</td>\n",
       "      <td>5709.049805</td>\n",
       "      <td>5799.549805</td>\n",
       "      <td>5770.160645</td>\n",
       "      <td>66855</td>\n",
       "    </tr>\n",
       "  </tbody>\n",
       "</table>\n",
       "</div>"
      ],
      "text/plain": [
       "                   Open         High          Low        Close    Adj Close  \\\n",
       "Date                                                                          \n",
       "2019-12-31   602.799988   618.299988   592.250000   604.500000   586.993530   \n",
       "2020-12-31   540.000000   569.000000   499.950012   544.400024   528.634094   \n",
       "2021-12-31  1843.000000  1875.000000  1837.000000  1867.949951  1846.669922   \n",
       "2022-12-31  5840.000000  5901.750000  5709.049805  5799.549805  5770.160645   \n",
       "\n",
       "            Volume  \n",
       "Date                \n",
       "2019-12-31  187554  \n",
       "2020-12-31   63716  \n",
       "2021-12-31   40009  \n",
       "2022-12-31   66855  "
      ]
     },
     "execution_count": 99,
     "metadata": {},
     "output_type": "execute_result"
    }
   ],
   "source": [
    "df_tesla.resample(rule='A').min()"
   ]
  },
  {
   "cell_type": "code",
   "execution_count": 100,
   "id": "647fce6a",
   "metadata": {},
   "outputs": [
    {
     "data": {
      "text/html": [
       "<div>\n",
       "<style scoped>\n",
       "    .dataframe tbody tr th:only-of-type {\n",
       "        vertical-align: middle;\n",
       "    }\n",
       "\n",
       "    .dataframe tbody tr th {\n",
       "        vertical-align: top;\n",
       "    }\n",
       "\n",
       "    .dataframe thead th {\n",
       "        text-align: right;\n",
       "    }\n",
       "</style>\n",
       "<table border=\"1\" class=\"dataframe\">\n",
       "  <thead>\n",
       "    <tr style=\"text-align: right;\">\n",
       "      <th></th>\n",
       "      <th>Open</th>\n",
       "      <th>High</th>\n",
       "      <th>Low</th>\n",
       "      <th>Close</th>\n",
       "      <th>Adj Close</th>\n",
       "      <th>Volume</th>\n",
       "    </tr>\n",
       "    <tr>\n",
       "      <th>Date</th>\n",
       "      <th></th>\n",
       "      <th></th>\n",
       "      <th></th>\n",
       "      <th></th>\n",
       "      <th></th>\n",
       "      <th></th>\n",
       "    </tr>\n",
       "  </thead>\n",
       "  <tbody>\n",
       "    <tr>\n",
       "      <th>2019-12-31</th>\n",
       "      <td>1030.000000</td>\n",
       "      <td>1042.0</td>\n",
       "      <td>1025.000000</td>\n",
       "      <td>1029.699951</td>\n",
       "      <td>969.196655</td>\n",
       "      <td>9825204</td>\n",
       "    </tr>\n",
       "    <tr>\n",
       "      <th>2020-12-31</th>\n",
       "      <td>1867.000000</td>\n",
       "      <td>1888.0</td>\n",
       "      <td>1839.500000</td>\n",
       "      <td>1855.099976</td>\n",
       "      <td>1833.966309</td>\n",
       "      <td>4036332</td>\n",
       "    </tr>\n",
       "    <tr>\n",
       "      <th>2021-12-31</th>\n",
       "      <td>6651.149902</td>\n",
       "      <td>6730.0</td>\n",
       "      <td>6580.299805</td>\n",
       "      <td>6619.299805</td>\n",
       "      <td>6585.756348</td>\n",
       "      <td>7133891</td>\n",
       "    </tr>\n",
       "    <tr>\n",
       "      <th>2022-12-31</th>\n",
       "      <td>10688.000000</td>\n",
       "      <td>10760.0</td>\n",
       "      <td>10563.000000</td>\n",
       "      <td>10684.900391</td>\n",
       "      <td>10684.900391</td>\n",
       "      <td>5673542</td>\n",
       "    </tr>\n",
       "  </tbody>\n",
       "</table>\n",
       "</div>"
      ],
      "text/plain": [
       "                    Open     High           Low         Close     Adj Close  \\\n",
       "Date                                                                          \n",
       "2019-12-31   1030.000000   1042.0   1025.000000   1029.699951    969.196655   \n",
       "2020-12-31   1867.000000   1888.0   1839.500000   1855.099976   1833.966309   \n",
       "2021-12-31   6651.149902   6730.0   6580.299805   6619.299805   6585.756348   \n",
       "2022-12-31  10688.000000  10760.0  10563.000000  10684.900391  10684.900391   \n",
       "\n",
       "             Volume  \n",
       "Date                 \n",
       "2019-12-31  9825204  \n",
       "2020-12-31  4036332  \n",
       "2021-12-31  7133891  \n",
       "2022-12-31  5673542  "
      ]
     },
     "execution_count": 100,
     "metadata": {},
     "output_type": "execute_result"
    }
   ],
   "source": [
    "df_tesla.resample(rule='A').max()"
   ]
  },
  {
   "cell_type": "code",
   "execution_count": 101,
   "id": "95c314a9",
   "metadata": {},
   "outputs": [
    {
     "data": {
      "text/plain": [
       "<AxesSubplot:xlabel='Date'>"
      ]
     },
     "execution_count": 101,
     "metadata": {},
     "output_type": "execute_result"
    },
    {
     "data": {
      "image/png": "[encoded data removed]",
      "text/plain": [
       "<Figure size 432x288 with 1 Axes>"
      ]
     },
     "metadata": {
      "needs_background": "light"
     },
     "output_type": "display_data"
    }
   ],
   "source": [
    "df_tesla.resample(rule='A').max()['Open'].plot()\n",
    "##rule = A is year end frequency\n",
    "## way to get max rise or min drop over time period "
   ]
  },
  {
   "cell_type": "code",
   "execution_count": 103,
   "id": "ea3803a4",
   "metadata": {},
   "outputs": [
    {
     "data": {
      "text/html": [
       "<div>\n",
       "<style scoped>\n",
       "    .dataframe tbody tr th:only-of-type {\n",
       "        vertical-align: middle;\n",
       "    }\n",
       "\n",
       "    .dataframe tbody tr th {\n",
       "        vertical-align: top;\n",
       "    }\n",
       "\n",
       "    .dataframe thead th {\n",
       "        text-align: right;\n",
       "    }\n",
       "</style>\n",
       "<table border=\"1\" class=\"dataframe\">\n",
       "  <thead>\n",
       "    <tr style=\"text-align: right;\">\n",
       "      <th></th>\n",
       "      <th>Open</th>\n",
       "      <th>High</th>\n",
       "      <th>Low</th>\n",
       "      <th>Close</th>\n",
       "      <th>Adj Close</th>\n",
       "      <th>Volume</th>\n",
       "    </tr>\n",
       "    <tr>\n",
       "      <th>Date</th>\n",
       "      <th></th>\n",
       "      <th></th>\n",
       "      <th></th>\n",
       "      <th></th>\n",
       "      <th></th>\n",
       "      <th></th>\n",
       "    </tr>\n",
       "  </thead>\n",
       "  <tbody>\n",
       "    <tr>\n",
       "      <th>2019-01-01</th>\n",
       "      <td>1030.000000</td>\n",
       "      <td>1042.000000</td>\n",
       "      <td>1025.000000</td>\n",
       "      <td>1029.699951</td>\n",
       "      <td>969.196655</td>\n",
       "      <td>4636310</td>\n",
       "    </tr>\n",
       "    <tr>\n",
       "      <th>2019-04-01</th>\n",
       "      <td>998.799988</td>\n",
       "      <td>1000.700012</td>\n",
       "      <td>980.299988</td>\n",
       "      <td>991.849976</td>\n",
       "      <td>933.570679</td>\n",
       "      <td>1627535</td>\n",
       "    </tr>\n",
       "    <tr>\n",
       "      <th>2019-07-01</th>\n",
       "      <td>924.950012</td>\n",
       "      <td>924.950012</td>\n",
       "      <td>913.000000</td>\n",
       "      <td>921.250000</td>\n",
       "      <td>867.119019</td>\n",
       "      <td>9825204</td>\n",
       "    </tr>\n",
       "    <tr>\n",
       "      <th>2019-10-01</th>\n",
       "      <td>870.000000</td>\n",
       "      <td>899.000000</td>\n",
       "      <td>854.000000</td>\n",
       "      <td>868.349976</td>\n",
       "      <td>843.202271</td>\n",
       "      <td>5130968</td>\n",
       "    </tr>\n",
       "    <tr>\n",
       "      <th>2020-01-01</th>\n",
       "      <td>1088.000000</td>\n",
       "      <td>1098.400024</td>\n",
       "      <td>1059.300049</td>\n",
       "      <td>1089.099976</td>\n",
       "      <td>1057.559326</td>\n",
       "      <td>4036332</td>\n",
       "    </tr>\n",
       "    <tr>\n",
       "      <th>2020-04-01</th>\n",
       "      <td>906.000000</td>\n",
       "      <td>943.000000</td>\n",
       "      <td>893.000000</td>\n",
       "      <td>901.000000</td>\n",
       "      <td>874.906738</td>\n",
       "      <td>3509913</td>\n",
       "    </tr>\n",
       "    <tr>\n",
       "      <th>2020-07-01</th>\n",
       "      <td>1327.599976</td>\n",
       "      <td>1331.000000</td>\n",
       "      <td>1283.599976</td>\n",
       "      <td>1302.099976</td>\n",
       "      <td>1287.266235</td>\n",
       "      <td>2276472</td>\n",
       "    </tr>\n",
       "    <tr>\n",
       "      <th>2020-10-01</th>\n",
       "      <td>1867.000000</td>\n",
       "      <td>1888.000000</td>\n",
       "      <td>1839.500000</td>\n",
       "      <td>1855.099976</td>\n",
       "      <td>1833.966309</td>\n",
       "      <td>2226203</td>\n",
       "    </tr>\n",
       "    <tr>\n",
       "      <th>2021-01-01</th>\n",
       "      <td>2980.000000</td>\n",
       "      <td>3050.000000</td>\n",
       "      <td>2861.350098</td>\n",
       "      <td>2949.800049</td>\n",
       "      <td>2916.195312</td>\n",
       "      <td>7133891</td>\n",
       "    </tr>\n",
       "    <tr>\n",
       "      <th>2021-04-01</th>\n",
       "      <td>4039.000000</td>\n",
       "      <td>4350.000000</td>\n",
       "      <td>4033.100098</td>\n",
       "      <td>4304.299805</td>\n",
       "      <td>4282.487793</td>\n",
       "      <td>1588841</td>\n",
       "    </tr>\n",
       "    <tr>\n",
       "      <th>2021-07-01</th>\n",
       "      <td>5923.799805</td>\n",
       "      <td>5971.899902</td>\n",
       "      <td>5733.000000</td>\n",
       "      <td>5866.950195</td>\n",
       "      <td>5837.219238</td>\n",
       "      <td>1022547</td>\n",
       "    </tr>\n",
       "    <tr>\n",
       "      <th>2021-10-01</th>\n",
       "      <td>6651.149902</td>\n",
       "      <td>6730.000000</td>\n",
       "      <td>6580.299805</td>\n",
       "      <td>6619.299805</td>\n",
       "      <td>6585.756348</td>\n",
       "      <td>701813</td>\n",
       "    </tr>\n",
       "    <tr>\n",
       "      <th>2022-01-01</th>\n",
       "      <td>9000.000000</td>\n",
       "      <td>9420.000000</td>\n",
       "      <td>8790.500000</td>\n",
       "      <td>9035.500000</td>\n",
       "      <td>8989.711914</td>\n",
       "      <td>3109546</td>\n",
       "    </tr>\n",
       "    <tr>\n",
       "      <th>2022-04-01</th>\n",
       "      <td>9090.000000</td>\n",
       "      <td>9164.400391</td>\n",
       "      <td>8931.500000</td>\n",
       "      <td>9009.700195</td>\n",
       "      <td>8964.042969</td>\n",
       "      <td>5673542</td>\n",
       "    </tr>\n",
       "    <tr>\n",
       "      <th>2022-07-01</th>\n",
       "      <td>10688.000000</td>\n",
       "      <td>10760.000000</td>\n",
       "      <td>10563.000000</td>\n",
       "      <td>10684.900391</td>\n",
       "      <td>10684.900391</td>\n",
       "      <td>1945184</td>\n",
       "    </tr>\n",
       "    <tr>\n",
       "      <th>2022-10-01</th>\n",
       "      <td>8660.000000</td>\n",
       "      <td>8685.000000</td>\n",
       "      <td>8533.000000</td>\n",
       "      <td>8584.200195</td>\n",
       "      <td>8584.200195</td>\n",
       "      <td>1890522</td>\n",
       "    </tr>\n",
       "  </tbody>\n",
       "</table>\n",
       "</div>"
      ],
      "text/plain": [
       "                    Open          High           Low         Close  \\\n",
       "Date                                                                 \n",
       "2019-01-01   1030.000000   1042.000000   1025.000000   1029.699951   \n",
       "2019-04-01    998.799988   1000.700012    980.299988    991.849976   \n",
       "2019-07-01    924.950012    924.950012    913.000000    921.250000   \n",
       "2019-10-01    870.000000    899.000000    854.000000    868.349976   \n",
       "2020-01-01   1088.000000   1098.400024   1059.300049   1089.099976   \n",
       "2020-04-01    906.000000    943.000000    893.000000    901.000000   \n",
       "2020-07-01   1327.599976   1331.000000   1283.599976   1302.099976   \n",
       "2020-10-01   1867.000000   1888.000000   1839.500000   1855.099976   \n",
       "2021-01-01   2980.000000   3050.000000   2861.350098   2949.800049   \n",
       "2021-04-01   4039.000000   4350.000000   4033.100098   4304.299805   \n",
       "2021-07-01   5923.799805   5971.899902   5733.000000   5866.950195   \n",
       "2021-10-01   6651.149902   6730.000000   6580.299805   6619.299805   \n",
       "2022-01-01   9000.000000   9420.000000   8790.500000   9035.500000   \n",
       "2022-04-01   9090.000000   9164.400391   8931.500000   9009.700195   \n",
       "2022-07-01  10688.000000  10760.000000  10563.000000  10684.900391   \n",
       "2022-10-01   8660.000000   8685.000000   8533.000000   8584.200195   \n",
       "\n",
       "               Adj Close   Volume  \n",
       "Date                               \n",
       "2019-01-01    969.196655  4636310  \n",
       "2019-04-01    933.570679  1627535  \n",
       "2019-07-01    867.119019  9825204  \n",
       "2019-10-01    843.202271  5130968  \n",
       "2020-01-01   1057.559326  4036332  \n",
       "2020-04-01    874.906738  3509913  \n",
       "2020-07-01   1287.266235  2276472  \n",
       "2020-10-01   1833.966309  2226203  \n",
       "2021-01-01   2916.195312  7133891  \n",
       "2021-04-01   4282.487793  1588841  \n",
       "2021-07-01   5837.219238  1022547  \n",
       "2021-10-01   6585.756348   701813  \n",
       "2022-01-01   8989.711914  3109546  \n",
       "2022-04-01   8964.042969  5673542  \n",
       "2022-07-01  10684.900391  1945184  \n",
       "2022-10-01   8584.200195  1890522  "
      ]
     },
     "execution_count": 103,
     "metadata": {},
     "output_type": "execute_result"
    }
   ],
   "source": [
    "## quaterly start frequency\n",
    "df_tesla.resample(rule='QS').max()"
   ]
  },
  {
   "cell_type": "code",
   "execution_count": 105,
   "id": "a70c2a97",
   "metadata": {},
   "outputs": [
    {
     "data": {
      "text/plain": [
       "<AxesSubplot:xlabel='Date'>"
      ]
     },
     "execution_count": 105,
     "metadata": {},
     "output_type": "execute_result"
    },
    {
     "data": {
      "image/png": "[encoded data removed]",
      "text/plain": [
       "<Figure size 432x288 with 1 Axes>"
      ]
     },
     "metadata": {
      "needs_background": "light"
     },
     "output_type": "display_data"
    }
   ],
   "source": [
    "df_tesla.resample(rule='QS').max()['Open'].plot()"
   ]
  },
  {
   "cell_type": "code",
   "execution_count": 107,
   "id": "94ebe5b2",
   "metadata": {},
   "outputs": [
    {
     "data": {
      "text/html": [
       "<div>\n",
       "<style scoped>\n",
       "    .dataframe tbody tr th:only-of-type {\n",
       "        vertical-align: middle;\n",
       "    }\n",
       "\n",
       "    .dataframe tbody tr th {\n",
       "        vertical-align: top;\n",
       "    }\n",
       "\n",
       "    .dataframe thead th {\n",
       "        text-align: right;\n",
       "    }\n",
       "</style>\n",
       "<table border=\"1\" class=\"dataframe\">\n",
       "  <thead>\n",
       "    <tr style=\"text-align: right;\">\n",
       "      <th></th>\n",
       "      <th>Open</th>\n",
       "      <th>High</th>\n",
       "      <th>Low</th>\n",
       "      <th>Close</th>\n",
       "      <th>Adj Close</th>\n",
       "      <th>Volume</th>\n",
       "    </tr>\n",
       "    <tr>\n",
       "      <th>Date</th>\n",
       "      <th></th>\n",
       "      <th></th>\n",
       "      <th></th>\n",
       "      <th></th>\n",
       "      <th></th>\n",
       "      <th></th>\n",
       "    </tr>\n",
       "  </thead>\n",
       "  <tbody>\n",
       "    <tr>\n",
       "      <th>2019-12-31</th>\n",
       "      <td>1030.000000</td>\n",
       "      <td>1042.0</td>\n",
       "      <td>1025.000000</td>\n",
       "      <td>1029.699951</td>\n",
       "      <td>969.196655</td>\n",
       "      <td>9825204.0</td>\n",
       "    </tr>\n",
       "    <tr>\n",
       "      <th>2020-12-31</th>\n",
       "      <td>1867.000000</td>\n",
       "      <td>1888.0</td>\n",
       "      <td>1839.500000</td>\n",
       "      <td>1855.099976</td>\n",
       "      <td>1833.966309</td>\n",
       "      <td>4036332.0</td>\n",
       "    </tr>\n",
       "    <tr>\n",
       "      <th>2021-12-31</th>\n",
       "      <td>6651.149902</td>\n",
       "      <td>6730.0</td>\n",
       "      <td>6580.299805</td>\n",
       "      <td>6619.299805</td>\n",
       "      <td>6585.756348</td>\n",
       "      <td>7133891.0</td>\n",
       "    </tr>\n",
       "    <tr>\n",
       "      <th>2022-12-30</th>\n",
       "      <td>10688.000000</td>\n",
       "      <td>10760.0</td>\n",
       "      <td>10563.000000</td>\n",
       "      <td>10684.900391</td>\n",
       "      <td>10684.900391</td>\n",
       "      <td>5673542.0</td>\n",
       "    </tr>\n",
       "    <tr>\n",
       "      <th>2023-12-29</th>\n",
       "      <td>NaN</td>\n",
       "      <td>NaN</td>\n",
       "      <td>NaN</td>\n",
       "      <td>NaN</td>\n",
       "      <td>NaN</td>\n",
       "      <td>NaN</td>\n",
       "    </tr>\n",
       "  </tbody>\n",
       "</table>\n",
       "</div>"
      ],
      "text/plain": [
       "                    Open     High           Low         Close     Adj Close  \\\n",
       "Date                                                                          \n",
       "2019-12-31   1030.000000   1042.0   1025.000000   1029.699951    969.196655   \n",
       "2020-12-31   1867.000000   1888.0   1839.500000   1855.099976   1833.966309   \n",
       "2021-12-31   6651.149902   6730.0   6580.299805   6619.299805   6585.756348   \n",
       "2022-12-30  10688.000000  10760.0  10563.000000  10684.900391  10684.900391   \n",
       "2023-12-29           NaN      NaN           NaN           NaN           NaN   \n",
       "\n",
       "               Volume  \n",
       "Date                   \n",
       "2019-12-31  9825204.0  \n",
       "2020-12-31  4036332.0  \n",
       "2021-12-31  7133891.0  \n",
       "2022-12-30  5673542.0  \n",
       "2023-12-29        NaN  "
      ]
     },
     "execution_count": 107,
     "metadata": {},
     "output_type": "execute_result"
    }
   ],
   "source": [
    "## Business End Frequency\n",
    "df_tesla.resample(rule='BA').max()"
   ]
  },
  {
   "cell_type": "code",
   "execution_count": 108,
   "id": "25610768",
   "metadata": {},
   "outputs": [
    {
     "data": {
      "text/plain": [
       "<AxesSubplot:xlabel='Date'>"
      ]
     },
     "execution_count": 108,
     "metadata": {},
     "output_type": "execute_result"
    },
    {
     "data": {
      "image/png": "[encoded data removed]",
      "text/plain": [
       "<Figure size 432x288 with 1 Axes>"
      ]
     },
     "metadata": {
      "needs_background": "light"
     },
     "output_type": "display_data"
    }
   ],
   "source": [
    "df_tesla.resample(rule='BA').min()['Open'].plot()"
   ]
  },
  {
   "cell_type": "code",
   "execution_count": 111,
   "id": "64522e30",
   "metadata": {},
   "outputs": [
    {
     "data": {
      "text/html": [
       "<div>\n",
       "<style scoped>\n",
       "    .dataframe tbody tr th:only-of-type {\n",
       "        vertical-align: middle;\n",
       "    }\n",
       "\n",
       "    .dataframe tbody tr th {\n",
       "        vertical-align: top;\n",
       "    }\n",
       "\n",
       "    .dataframe thead th {\n",
       "        text-align: right;\n",
       "    }\n",
       "</style>\n",
       "<table border=\"1\" class=\"dataframe\">\n",
       "  <thead>\n",
       "    <tr style=\"text-align: right;\">\n",
       "      <th></th>\n",
       "      <th>Open</th>\n",
       "      <th>High</th>\n",
       "      <th>Low</th>\n",
       "      <th>Close</th>\n",
       "      <th>Adj Close</th>\n",
       "      <th>Volume</th>\n",
       "    </tr>\n",
       "    <tr>\n",
       "      <th>Date</th>\n",
       "      <th></th>\n",
       "      <th></th>\n",
       "      <th></th>\n",
       "      <th></th>\n",
       "      <th></th>\n",
       "      <th></th>\n",
       "    </tr>\n",
       "  </thead>\n",
       "  <tbody>\n",
       "    <tr>\n",
       "      <th>2019-01-01</th>\n",
       "      <td>1030.000000</td>\n",
       "      <td>1042.000000</td>\n",
       "      <td>1025.000000</td>\n",
       "      <td>1029.699951</td>\n",
       "      <td>969.196655</td>\n",
       "      <td>4636310</td>\n",
       "    </tr>\n",
       "    <tr>\n",
       "      <th>2019-04-01</th>\n",
       "      <td>998.799988</td>\n",
       "      <td>1000.700012</td>\n",
       "      <td>980.299988</td>\n",
       "      <td>991.849976</td>\n",
       "      <td>933.570679</td>\n",
       "      <td>1627535</td>\n",
       "    </tr>\n",
       "    <tr>\n",
       "      <th>2019-07-01</th>\n",
       "      <td>924.950012</td>\n",
       "      <td>924.950012</td>\n",
       "      <td>913.000000</td>\n",
       "      <td>921.250000</td>\n",
       "      <td>867.119019</td>\n",
       "      <td>9825204</td>\n",
       "    </tr>\n",
       "    <tr>\n",
       "      <th>2019-10-01</th>\n",
       "      <td>870.000000</td>\n",
       "      <td>899.000000</td>\n",
       "      <td>854.000000</td>\n",
       "      <td>868.349976</td>\n",
       "      <td>843.202271</td>\n",
       "      <td>5130968</td>\n",
       "    </tr>\n",
       "    <tr>\n",
       "      <th>2020-01-01</th>\n",
       "      <td>1088.000000</td>\n",
       "      <td>1098.400024</td>\n",
       "      <td>1059.300049</td>\n",
       "      <td>1089.099976</td>\n",
       "      <td>1057.559326</td>\n",
       "      <td>4036332</td>\n",
       "    </tr>\n",
       "    <tr>\n",
       "      <th>2020-04-01</th>\n",
       "      <td>906.000000</td>\n",
       "      <td>943.000000</td>\n",
       "      <td>893.000000</td>\n",
       "      <td>901.000000</td>\n",
       "      <td>874.906738</td>\n",
       "      <td>3509913</td>\n",
       "    </tr>\n",
       "    <tr>\n",
       "      <th>2020-07-01</th>\n",
       "      <td>1327.599976</td>\n",
       "      <td>1331.000000</td>\n",
       "      <td>1283.599976</td>\n",
       "      <td>1302.099976</td>\n",
       "      <td>1287.266235</td>\n",
       "      <td>2276472</td>\n",
       "    </tr>\n",
       "    <tr>\n",
       "      <th>2020-10-01</th>\n",
       "      <td>1867.000000</td>\n",
       "      <td>1888.000000</td>\n",
       "      <td>1839.500000</td>\n",
       "      <td>1855.099976</td>\n",
       "      <td>1833.966309</td>\n",
       "      <td>2226203</td>\n",
       "    </tr>\n",
       "    <tr>\n",
       "      <th>2021-01-01</th>\n",
       "      <td>2980.000000</td>\n",
       "      <td>3050.000000</td>\n",
       "      <td>2861.350098</td>\n",
       "      <td>2949.800049</td>\n",
       "      <td>2916.195312</td>\n",
       "      <td>7133891</td>\n",
       "    </tr>\n",
       "    <tr>\n",
       "      <th>2021-04-01</th>\n",
       "      <td>4039.000000</td>\n",
       "      <td>4350.000000</td>\n",
       "      <td>4033.100098</td>\n",
       "      <td>4304.299805</td>\n",
       "      <td>4282.487793</td>\n",
       "      <td>1588841</td>\n",
       "    </tr>\n",
       "    <tr>\n",
       "      <th>2021-07-01</th>\n",
       "      <td>5923.799805</td>\n",
       "      <td>5971.899902</td>\n",
       "      <td>5733.000000</td>\n",
       "      <td>5866.950195</td>\n",
       "      <td>5837.219238</td>\n",
       "      <td>1022547</td>\n",
       "    </tr>\n",
       "    <tr>\n",
       "      <th>2021-10-01</th>\n",
       "      <td>6651.149902</td>\n",
       "      <td>6730.000000</td>\n",
       "      <td>6580.299805</td>\n",
       "      <td>6619.299805</td>\n",
       "      <td>6585.756348</td>\n",
       "      <td>701813</td>\n",
       "    </tr>\n",
       "    <tr>\n",
       "      <th>2022-01-03</th>\n",
       "      <td>9000.000000</td>\n",
       "      <td>9420.000000</td>\n",
       "      <td>8790.500000</td>\n",
       "      <td>9035.500000</td>\n",
       "      <td>8989.711914</td>\n",
       "      <td>3109546</td>\n",
       "    </tr>\n",
       "    <tr>\n",
       "      <th>2022-04-01</th>\n",
       "      <td>9090.000000</td>\n",
       "      <td>9164.400391</td>\n",
       "      <td>8931.500000</td>\n",
       "      <td>9009.700195</td>\n",
       "      <td>8964.042969</td>\n",
       "      <td>5673542</td>\n",
       "    </tr>\n",
       "    <tr>\n",
       "      <th>2022-07-01</th>\n",
       "      <td>10688.000000</td>\n",
       "      <td>10760.000000</td>\n",
       "      <td>10563.000000</td>\n",
       "      <td>10684.900391</td>\n",
       "      <td>10684.900391</td>\n",
       "      <td>1945184</td>\n",
       "    </tr>\n",
       "    <tr>\n",
       "      <th>2022-10-03</th>\n",
       "      <td>8660.000000</td>\n",
       "      <td>8685.000000</td>\n",
       "      <td>8533.000000</td>\n",
       "      <td>8584.200195</td>\n",
       "      <td>8584.200195</td>\n",
       "      <td>1890522</td>\n",
       "    </tr>\n",
       "  </tbody>\n",
       "</table>\n",
       "</div>"
      ],
      "text/plain": [
       "                    Open          High           Low         Close  \\\n",
       "Date                                                                 \n",
       "2019-01-01   1030.000000   1042.000000   1025.000000   1029.699951   \n",
       "2019-04-01    998.799988   1000.700012    980.299988    991.849976   \n",
       "2019-07-01    924.950012    924.950012    913.000000    921.250000   \n",
       "2019-10-01    870.000000    899.000000    854.000000    868.349976   \n",
       "2020-01-01   1088.000000   1098.400024   1059.300049   1089.099976   \n",
       "2020-04-01    906.000000    943.000000    893.000000    901.000000   \n",
       "2020-07-01   1327.599976   1331.000000   1283.599976   1302.099976   \n",
       "2020-10-01   1867.000000   1888.000000   1839.500000   1855.099976   \n",
       "2021-01-01   2980.000000   3050.000000   2861.350098   2949.800049   \n",
       "2021-04-01   4039.000000   4350.000000   4033.100098   4304.299805   \n",
       "2021-07-01   5923.799805   5971.899902   5733.000000   5866.950195   \n",
       "2021-10-01   6651.149902   6730.000000   6580.299805   6619.299805   \n",
       "2022-01-03   9000.000000   9420.000000   8790.500000   9035.500000   \n",
       "2022-04-01   9090.000000   9164.400391   8931.500000   9009.700195   \n",
       "2022-07-01  10688.000000  10760.000000  10563.000000  10684.900391   \n",
       "2022-10-03   8660.000000   8685.000000   8533.000000   8584.200195   \n",
       "\n",
       "               Adj Close   Volume  \n",
       "Date                               \n",
       "2019-01-01    969.196655  4636310  \n",
       "2019-04-01    933.570679  1627535  \n",
       "2019-07-01    867.119019  9825204  \n",
       "2019-10-01    843.202271  5130968  \n",
       "2020-01-01   1057.559326  4036332  \n",
       "2020-04-01    874.906738  3509913  \n",
       "2020-07-01   1287.266235  2276472  \n",
       "2020-10-01   1833.966309  2226203  \n",
       "2021-01-01   2916.195312  7133891  \n",
       "2021-04-01   4282.487793  1588841  \n",
       "2021-07-01   5837.219238  1022547  \n",
       "2021-10-01   6585.756348   701813  \n",
       "2022-01-03   8989.711914  3109546  \n",
       "2022-04-01   8964.042969  5673542  \n",
       "2022-07-01  10684.900391  1945184  \n",
       "2022-10-03   8584.200195  1890522  "
      ]
     },
     "execution_count": 111,
     "metadata": {},
     "output_type": "execute_result"
    }
   ],
   "source": [
    "## Busines Quarter  Frequency\n",
    "df_tesla.resample(rule='BQS').max()"
   ]
  },
  {
   "cell_type": "code",
   "execution_count": 114,
   "id": "0a2c1204",
   "metadata": {},
   "outputs": [
    {
     "data": {
      "text/plain": [
       "<AxesSubplot:xlabel='Date'>"
      ]
     },
     "execution_count": 114,
     "metadata": {},
     "output_type": "execute_result"
    },
    {
     "data": {
      "image/png": "[encoded data removed]",
      "text/plain": [
       "<Figure size 432x288 with 1 Axes>"
      ]
     },
     "metadata": {
      "needs_background": "light"
     },
     "output_type": "display_data"
    }
   ],
   "source": [
    "## PLOTTING\n",
    "\n",
    "##YEARLY business end frequency\n",
    "df_tesla['Open'].resample(rule='BA').mean().plot(kind='bar')"
   ]
  },
  {
   "cell_type": "code",
   "execution_count": 115,
   "id": "3bdc4dc1",
   "metadata": {},
   "outputs": [
    {
     "data": {
      "text/plain": [
       "<AxesSubplot:xlabel='Date'>"
      ]
     },
     "execution_count": 115,
     "metadata": {},
     "output_type": "execute_result"
    },
    {
     "data": {
      "image/png": "[encoded data removed]",
      "text/plain": [
       "<Figure size 432x288 with 1 Axes>"
      ]
     },
     "metadata": {
      "needs_background": "light"
     },
     "output_type": "display_data"
    }
   ],
   "source": [
    "\n",
    "df_tesla['Open'].resample(rule='A').mean().plot(kind='bar')"
   ]
  },
  {
   "cell_type": "code",
   "execution_count": 119,
   "id": "0c966731",
   "metadata": {},
   "outputs": [
    {
     "data": {
      "text/plain": [
       "<AxesSubplot:xlabel='Date'>"
      ]
     },
     "execution_count": 119,
     "metadata": {},
     "output_type": "execute_result"
    },
    {
     "data": {
      "image/png": "[encoded data removed]",
      "text/plain": [
       "<Figure size 1080x432 with 1 Axes>"
      ]
     },
     "metadata": {
      "needs_background": "light"
     },
     "output_type": "display_data"
    }
   ],
   "source": [
    "## MOnthly data plot bar chart\n",
    "df_tesla['Open'].resample(rule='M').max().plot(kind='bar', figsize=(15,6))"
   ]
  },
  {
   "cell_type": "markdown",
   "id": "e98f8a42",
   "metadata": {},
   "source": [
    "# Rolling and Expanding"
   ]
  },
  {
   "cell_type": "code",
   "execution_count": 120,
   "id": "06bc1044",
   "metadata": {},
   "outputs": [
    {
     "data": {
      "text/html": [
       "<div>\n",
       "<style scoped>\n",
       "    .dataframe tbody tr th:only-of-type {\n",
       "        vertical-align: middle;\n",
       "    }\n",
       "\n",
       "    .dataframe tbody tr th {\n",
       "        vertical-align: top;\n",
       "    }\n",
       "\n",
       "    .dataframe thead th {\n",
       "        text-align: right;\n",
       "    }\n",
       "</style>\n",
       "<table border=\"1\" class=\"dataframe\">\n",
       "  <thead>\n",
       "    <tr style=\"text-align: right;\">\n",
       "      <th></th>\n",
       "      <th>Open</th>\n",
       "      <th>High</th>\n",
       "      <th>Low</th>\n",
       "      <th>Close</th>\n",
       "      <th>Adj Close</th>\n",
       "      <th>Volume</th>\n",
       "    </tr>\n",
       "    <tr>\n",
       "      <th>Date</th>\n",
       "      <th></th>\n",
       "      <th></th>\n",
       "      <th></th>\n",
       "      <th></th>\n",
       "      <th></th>\n",
       "      <th></th>\n",
       "    </tr>\n",
       "  </thead>\n",
       "  <tbody>\n",
       "    <tr>\n",
       "      <th>2019-01-01</th>\n",
       "      <td>1024.449951</td>\n",
       "      <td>1035.500000</td>\n",
       "      <td>1020.849976</td>\n",
       "      <td>1026.750000</td>\n",
       "      <td>966.420044</td>\n",
       "      <td>671934</td>\n",
       "    </tr>\n",
       "    <tr>\n",
       "      <th>2019-01-02</th>\n",
       "      <td>1029.000000</td>\n",
       "      <td>1042.000000</td>\n",
       "      <td>1020.000000</td>\n",
       "      <td>1024.800049</td>\n",
       "      <td>964.584656</td>\n",
       "      <td>827581</td>\n",
       "    </tr>\n",
       "    <tr>\n",
       "      <th>2019-01-03</th>\n",
       "      <td>1030.000000</td>\n",
       "      <td>1037.900024</td>\n",
       "      <td>1025.000000</td>\n",
       "      <td>1029.699951</td>\n",
       "      <td>969.196655</td>\n",
       "      <td>477746</td>\n",
       "    </tr>\n",
       "    <tr>\n",
       "      <th>2019-01-04</th>\n",
       "      <td>1030.000000</td>\n",
       "      <td>1035.000000</td>\n",
       "      <td>984.049988</td>\n",
       "      <td>1003.900024</td>\n",
       "      <td>944.912659</td>\n",
       "      <td>1194424</td>\n",
       "    </tr>\n",
       "    <tr>\n",
       "      <th>2019-01-07</th>\n",
       "      <td>1011.000000</td>\n",
       "      <td>1013.599976</td>\n",
       "      <td>970.000000</td>\n",
       "      <td>978.450012</td>\n",
       "      <td>920.958069</td>\n",
       "      <td>1225753</td>\n",
       "    </tr>\n",
       "  </tbody>\n",
       "</table>\n",
       "</div>"
      ],
      "text/plain": [
       "                   Open         High          Low        Close   Adj Close  \\\n",
       "Date                                                                         \n",
       "2019-01-01  1024.449951  1035.500000  1020.849976  1026.750000  966.420044   \n",
       "2019-01-02  1029.000000  1042.000000  1020.000000  1024.800049  964.584656   \n",
       "2019-01-03  1030.000000  1037.900024  1025.000000  1029.699951  969.196655   \n",
       "2019-01-04  1030.000000  1035.000000   984.049988  1003.900024  944.912659   \n",
       "2019-01-07  1011.000000  1013.599976   970.000000   978.450012  920.958069   \n",
       "\n",
       "             Volume  \n",
       "Date                 \n",
       "2019-01-01   671934  \n",
       "2019-01-02   827581  \n",
       "2019-01-03   477746  \n",
       "2019-01-04  1194424  \n",
       "2019-01-07  1225753  "
      ]
     },
     "execution_count": 120,
     "metadata": {},
     "output_type": "execute_result"
    }
   ],
   "source": [
    "df_tesla.head()"
   ]
  },
  {
   "cell_type": "code",
   "execution_count": 122,
   "id": "8fb95505",
   "metadata": {},
   "outputs": [
    {
     "data": {
      "text/plain": [
       "Date\n",
       "2019-01-01            NaN\n",
       "2019-01-02            NaN\n",
       "2019-01-03            NaN\n",
       "2019-01-04            NaN\n",
       "2019-01-07            NaN\n",
       "                 ...     \n",
       "2022-12-26    6449.680029\n",
       "2022-12-27    6425.780029\n",
       "2022-12-28    6393.040039\n",
       "2022-12-29    6353.770020\n",
       "2022-12-30    6343.290039\n",
       "Name: High, Length: 990, dtype: float64"
      ]
     },
     "execution_count": 122,
     "metadata": {},
     "output_type": "execute_result"
    }
   ],
   "source": [
    "df_tesla['High'].rolling(10).mean()\n",
    "## here we need to give window of some time period\n",
    "## take two consecutive values of High and take their mean\n"
   ]
  },
  {
   "cell_type": "code",
   "execution_count": 124,
   "id": "ccbd3c4b",
   "metadata": {},
   "outputs": [
    {
     "data": {
      "text/plain": [
       "Date\n",
       "2019-01-01            NaN\n",
       "2019-01-02            NaN\n",
       "2019-01-03            NaN\n",
       "2019-01-04            NaN\n",
       "2019-01-07            NaN\n",
       "2019-01-08            NaN\n",
       "2019-01-09            NaN\n",
       "2019-01-10            NaN\n",
       "2019-01-11            NaN\n",
       "2019-01-14    1042.000000\n",
       "2019-01-15    1042.000000\n",
       "2019-01-16    1037.900024\n",
       "2019-01-17    1035.000000\n",
       "2019-01-18    1013.599976\n",
       "2019-01-21     994.000000\n",
       "2019-01-22     994.000000\n",
       "2019-01-23     984.650024\n",
       "2019-01-24     984.650024\n",
       "2019-01-25     984.650024\n",
       "2019-01-28     984.650024\n",
       "Name: High, dtype: float64"
      ]
     },
     "execution_count": 124,
     "metadata": {},
     "output_type": "execute_result"
    }
   ],
   "source": [
    "df_tesla['High'].rolling(10).max().head(20)"
   ]
  },
  {
   "cell_type": "code",
   "execution_count": 126,
   "id": "09ca1d71",
   "metadata": {},
   "outputs": [
    {
     "data": {
      "text/plain": [
       "Date\n",
       "2019-01-01    1035.500000\n",
       "2019-01-02    1042.000000\n",
       "2019-01-03    1037.900024\n",
       "2019-01-04    1035.000000\n",
       "2019-01-07    1013.599976\n",
       "2019-01-08     991.650024\n",
       "2019-01-09     994.000000\n",
       "2019-01-10     977.000000\n",
       "2019-01-11     974.099976\n",
       "2019-01-14     974.400024\n",
       "2019-01-15     984.299988\n",
       "2019-01-16     984.650024\n",
       "2019-01-17     979.650024\n",
       "2019-01-18     973.150024\n",
       "2019-01-21     981.400024\n",
       "2019-01-22     972.000000\n",
       "2019-01-23     981.400024\n",
       "2019-01-24     966.150024\n",
       "2019-01-25     939.599976\n",
       "2019-01-28     917.500000\n",
       "Name: High, dtype: float64"
      ]
     },
     "execution_count": 126,
     "metadata": {},
     "output_type": "execute_result"
    }
   ],
   "source": [
    "df_tesla['High'].head(20)"
   ]
  },
  {
   "cell_type": "code",
   "execution_count": 127,
   "id": "a4502f14",
   "metadata": {},
   "outputs": [],
   "source": [
    "df_tesla['Open: 30 days rolling']=df_tesla['Open'].rolling(30).mean()"
   ]
  },
  {
   "cell_type": "code",
   "execution_count": 129,
   "id": "8bd0730c",
   "metadata": {},
   "outputs": [
    {
     "data": {
      "text/html": [
       "<div>\n",
       "<style scoped>\n",
       "    .dataframe tbody tr th:only-of-type {\n",
       "        vertical-align: middle;\n",
       "    }\n",
       "\n",
       "    .dataframe tbody tr th {\n",
       "        vertical-align: top;\n",
       "    }\n",
       "\n",
       "    .dataframe thead th {\n",
       "        text-align: right;\n",
       "    }\n",
       "</style>\n",
       "<table border=\"1\" class=\"dataframe\">\n",
       "  <thead>\n",
       "    <tr style=\"text-align: right;\">\n",
       "      <th></th>\n",
       "      <th>Open</th>\n",
       "      <th>High</th>\n",
       "      <th>Low</th>\n",
       "      <th>Close</th>\n",
       "      <th>Adj Close</th>\n",
       "      <th>Volume</th>\n",
       "      <th>Open: 30 days rolling</th>\n",
       "    </tr>\n",
       "    <tr>\n",
       "      <th>Date</th>\n",
       "      <th></th>\n",
       "      <th></th>\n",
       "      <th></th>\n",
       "      <th></th>\n",
       "      <th></th>\n",
       "      <th></th>\n",
       "      <th></th>\n",
       "    </tr>\n",
       "  </thead>\n",
       "  <tbody>\n",
       "    <tr>\n",
       "      <th>2019-01-01</th>\n",
       "      <td>1024.449951</td>\n",
       "      <td>1035.500000</td>\n",
       "      <td>1020.849976</td>\n",
       "      <td>1026.750000</td>\n",
       "      <td>966.420044</td>\n",
       "      <td>671934</td>\n",
       "      <td>NaN</td>\n",
       "    </tr>\n",
       "    <tr>\n",
       "      <th>2019-01-02</th>\n",
       "      <td>1029.000000</td>\n",
       "      <td>1042.000000</td>\n",
       "      <td>1020.000000</td>\n",
       "      <td>1024.800049</td>\n",
       "      <td>964.584656</td>\n",
       "      <td>827581</td>\n",
       "      <td>NaN</td>\n",
       "    </tr>\n",
       "    <tr>\n",
       "      <th>2019-01-03</th>\n",
       "      <td>1030.000000</td>\n",
       "      <td>1037.900024</td>\n",
       "      <td>1025.000000</td>\n",
       "      <td>1029.699951</td>\n",
       "      <td>969.196655</td>\n",
       "      <td>477746</td>\n",
       "      <td>NaN</td>\n",
       "    </tr>\n",
       "    <tr>\n",
       "      <th>2019-01-04</th>\n",
       "      <td>1030.000000</td>\n",
       "      <td>1035.000000</td>\n",
       "      <td>984.049988</td>\n",
       "      <td>1003.900024</td>\n",
       "      <td>944.912659</td>\n",
       "      <td>1194424</td>\n",
       "      <td>NaN</td>\n",
       "    </tr>\n",
       "    <tr>\n",
       "      <th>2019-01-07</th>\n",
       "      <td>1011.000000</td>\n",
       "      <td>1013.599976</td>\n",
       "      <td>970.000000</td>\n",
       "      <td>978.450012</td>\n",
       "      <td>920.958069</td>\n",
       "      <td>1225753</td>\n",
       "      <td>NaN</td>\n",
       "    </tr>\n",
       "    <tr>\n",
       "      <th>2019-01-08</th>\n",
       "      <td>975.000000</td>\n",
       "      <td>991.650024</td>\n",
       "      <td>960.000000</td>\n",
       "      <td>972.250000</td>\n",
       "      <td>915.122375</td>\n",
       "      <td>4365760</td>\n",
       "      <td>NaN</td>\n",
       "    </tr>\n",
       "    <tr>\n",
       "      <th>2019-01-09</th>\n",
       "      <td>975.000000</td>\n",
       "      <td>994.000000</td>\n",
       "      <td>963.000000</td>\n",
       "      <td>970.049988</td>\n",
       "      <td>913.051636</td>\n",
       "      <td>1345457</td>\n",
       "      <td>NaN</td>\n",
       "    </tr>\n",
       "    <tr>\n",
       "      <th>2019-01-10</th>\n",
       "      <td>973.000000</td>\n",
       "      <td>977.000000</td>\n",
       "      <td>966.000000</td>\n",
       "      <td>969.500000</td>\n",
       "      <td>912.533997</td>\n",
       "      <td>473621</td>\n",
       "      <td>NaN</td>\n",
       "    </tr>\n",
       "    <tr>\n",
       "      <th>2019-01-11</th>\n",
       "      <td>974.000000</td>\n",
       "      <td>974.099976</td>\n",
       "      <td>948.099976</td>\n",
       "      <td>961.950012</td>\n",
       "      <td>905.427551</td>\n",
       "      <td>1410190</td>\n",
       "      <td>NaN</td>\n",
       "    </tr>\n",
       "    <tr>\n",
       "      <th>2019-01-14</th>\n",
       "      <td>964.450012</td>\n",
       "      <td>974.400024</td>\n",
       "      <td>956.000000</td>\n",
       "      <td>968.950012</td>\n",
       "      <td>912.016296</td>\n",
       "      <td>479983</td>\n",
       "      <td>NaN</td>\n",
       "    </tr>\n",
       "    <tr>\n",
       "      <th>2019-01-15</th>\n",
       "      <td>970.500000</td>\n",
       "      <td>984.299988</td>\n",
       "      <td>970.500000</td>\n",
       "      <td>979.200012</td>\n",
       "      <td>921.664001</td>\n",
       "      <td>657468</td>\n",
       "      <td>NaN</td>\n",
       "    </tr>\n",
       "    <tr>\n",
       "      <th>2019-01-16</th>\n",
       "      <td>981.500000</td>\n",
       "      <td>984.650024</td>\n",
       "      <td>967.250000</td>\n",
       "      <td>970.500000</td>\n",
       "      <td>913.475220</td>\n",
       "      <td>327270</td>\n",
       "      <td>NaN</td>\n",
       "    </tr>\n",
       "    <tr>\n",
       "      <th>2019-01-17</th>\n",
       "      <td>974.799988</td>\n",
       "      <td>979.650024</td>\n",
       "      <td>964.000000</td>\n",
       "      <td>968.400024</td>\n",
       "      <td>911.498657</td>\n",
       "      <td>478499</td>\n",
       "      <td>NaN</td>\n",
       "    </tr>\n",
       "    <tr>\n",
       "      <th>2019-01-18</th>\n",
       "      <td>970.000000</td>\n",
       "      <td>973.150024</td>\n",
       "      <td>959.099976</td>\n",
       "      <td>962.900024</td>\n",
       "      <td>906.321777</td>\n",
       "      <td>366679</td>\n",
       "      <td>NaN</td>\n",
       "    </tr>\n",
       "    <tr>\n",
       "      <th>2019-01-21</th>\n",
       "      <td>960.200012</td>\n",
       "      <td>981.400024</td>\n",
       "      <td>956.450012</td>\n",
       "      <td>963.450012</td>\n",
       "      <td>906.839478</td>\n",
       "      <td>556855</td>\n",
       "      <td>NaN</td>\n",
       "    </tr>\n",
       "    <tr>\n",
       "      <th>2019-01-22</th>\n",
       "      <td>962.049988</td>\n",
       "      <td>972.000000</td>\n",
       "      <td>961.099976</td>\n",
       "      <td>967.849976</td>\n",
       "      <td>910.980896</td>\n",
       "      <td>280798</td>\n",
       "      <td>NaN</td>\n",
       "    </tr>\n",
       "    <tr>\n",
       "      <th>2019-01-23</th>\n",
       "      <td>970.000000</td>\n",
       "      <td>981.400024</td>\n",
       "      <td>962.000000</td>\n",
       "      <td>966.799988</td>\n",
       "      <td>909.992615</td>\n",
       "      <td>349506</td>\n",
       "      <td>NaN</td>\n",
       "    </tr>\n",
       "    <tr>\n",
       "      <th>2019-01-24</th>\n",
       "      <td>962.400024</td>\n",
       "      <td>966.150024</td>\n",
       "      <td>929.150024</td>\n",
       "      <td>933.299988</td>\n",
       "      <td>878.460999</td>\n",
       "      <td>1357593</td>\n",
       "      <td>NaN</td>\n",
       "    </tr>\n",
       "    <tr>\n",
       "      <th>2019-01-25</th>\n",
       "      <td>937.400024</td>\n",
       "      <td>939.599976</td>\n",
       "      <td>908.099976</td>\n",
       "      <td>912.799988</td>\n",
       "      <td>859.165527</td>\n",
       "      <td>798253</td>\n",
       "      <td>NaN</td>\n",
       "    </tr>\n",
       "    <tr>\n",
       "      <th>2019-01-28</th>\n",
       "      <td>914.000000</td>\n",
       "      <td>917.500000</td>\n",
       "      <td>872.099976</td>\n",
       "      <td>875.099976</td>\n",
       "      <td>823.680725</td>\n",
       "      <td>687170</td>\n",
       "      <td>NaN</td>\n",
       "    </tr>\n",
       "    <tr>\n",
       "      <th>2019-01-29</th>\n",
       "      <td>878.900024</td>\n",
       "      <td>891.500000</td>\n",
       "      <td>871.000000</td>\n",
       "      <td>884.950012</td>\n",
       "      <td>832.951965</td>\n",
       "      <td>382535</td>\n",
       "      <td>NaN</td>\n",
       "    </tr>\n",
       "    <tr>\n",
       "      <th>2019-01-30</th>\n",
       "      <td>892.900024</td>\n",
       "      <td>895.000000</td>\n",
       "      <td>866.000000</td>\n",
       "      <td>879.299988</td>\n",
       "      <td>827.633911</td>\n",
       "      <td>382653</td>\n",
       "      <td>NaN</td>\n",
       "    </tr>\n",
       "    <tr>\n",
       "      <th>2019-01-31</th>\n",
       "      <td>879.349976</td>\n",
       "      <td>883.349976</td>\n",
       "      <td>866.400024</td>\n",
       "      <td>874.000000</td>\n",
       "      <td>822.645386</td>\n",
       "      <td>405147</td>\n",
       "      <td>NaN</td>\n",
       "    </tr>\n",
       "    <tr>\n",
       "      <th>2019-02-01</th>\n",
       "      <td>877.599976</td>\n",
       "      <td>893.950012</td>\n",
       "      <td>874.049988</td>\n",
       "      <td>889.299988</td>\n",
       "      <td>837.046326</td>\n",
       "      <td>498559</td>\n",
       "      <td>NaN</td>\n",
       "    </tr>\n",
       "    <tr>\n",
       "      <th>2019-02-04</th>\n",
       "      <td>894.000000</td>\n",
       "      <td>900.799988</td>\n",
       "      <td>881.400024</td>\n",
       "      <td>888.650024</td>\n",
       "      <td>836.434570</td>\n",
       "      <td>649150</td>\n",
       "      <td>NaN</td>\n",
       "    </tr>\n",
       "    <tr>\n",
       "      <th>2019-02-05</th>\n",
       "      <td>890.500000</td>\n",
       "      <td>904.200012</td>\n",
       "      <td>879.750000</td>\n",
       "      <td>897.400024</td>\n",
       "      <td>844.670471</td>\n",
       "      <td>488902</td>\n",
       "      <td>NaN</td>\n",
       "    </tr>\n",
       "    <tr>\n",
       "      <th>2019-02-06</th>\n",
       "      <td>899.900024</td>\n",
       "      <td>912.400024</td>\n",
       "      <td>897.049988</td>\n",
       "      <td>907.900024</td>\n",
       "      <td>854.553528</td>\n",
       "      <td>672639</td>\n",
       "      <td>NaN</td>\n",
       "    </tr>\n",
       "    <tr>\n",
       "      <th>2019-02-07</th>\n",
       "      <td>906.099976</td>\n",
       "      <td>929.900024</td>\n",
       "      <td>905.200012</td>\n",
       "      <td>922.900024</td>\n",
       "      <td>868.672058</td>\n",
       "      <td>845227</td>\n",
       "      <td>NaN</td>\n",
       "    </tr>\n",
       "    <tr>\n",
       "      <th>2019-02-08</th>\n",
       "      <td>918.799988</td>\n",
       "      <td>922.349976</td>\n",
       "      <td>897.250000</td>\n",
       "      <td>904.500000</td>\n",
       "      <td>851.353210</td>\n",
       "      <td>543811</td>\n",
       "      <td>NaN</td>\n",
       "    </tr>\n",
       "    <tr>\n",
       "      <th>2019-02-11</th>\n",
       "      <td>900.000000</td>\n",
       "      <td>908.400024</td>\n",
       "      <td>889.049988</td>\n",
       "      <td>903.799988</td>\n",
       "      <td>850.694336</td>\n",
       "      <td>379046</td>\n",
       "      <td>950.893333</td>\n",
       "    </tr>\n",
       "  </tbody>\n",
       "</table>\n",
       "</div>"
      ],
      "text/plain": [
       "                   Open         High          Low        Close   Adj Close  \\\n",
       "Date                                                                         \n",
       "2019-01-01  1024.449951  1035.500000  1020.849976  1026.750000  966.420044   \n",
       "2019-01-02  1029.000000  1042.000000  1020.000000  1024.800049  964.584656   \n",
       "2019-01-03  1030.000000  1037.900024  1025.000000  1029.699951  969.196655   \n",
       "2019-01-04  1030.000000  1035.000000   984.049988  1003.900024  944.912659   \n",
       "2019-01-07  1011.000000  1013.599976   970.000000   978.450012  920.958069   \n",
       "2019-01-08   975.000000   991.650024   960.000000   972.250000  915.122375   \n",
       "2019-01-09   975.000000   994.000000   963.000000   970.049988  913.051636   \n",
       "2019-01-10   973.000000   977.000000   966.000000   969.500000  912.533997   \n",
       "2019-01-11   974.000000   974.099976   948.099976   961.950012  905.427551   \n",
       "2019-01-14   964.450012   974.400024   956.000000   968.950012  912.016296   \n",
       "2019-01-15   970.500000   984.299988   970.500000   979.200012  921.664001   \n",
       "2019-01-16   981.500000   984.650024   967.250000   970.500000  913.475220   \n",
       "2019-01-17   974.799988   979.650024   964.000000   968.400024  911.498657   \n",
       "2019-01-18   970.000000   973.150024   959.099976   962.900024  906.321777   \n",
       "2019-01-21   960.200012   981.400024   956.450012   963.450012  906.839478   \n",
       "2019-01-22   962.049988   972.000000   961.099976   967.849976  910.980896   \n",
       "2019-01-23   970.000000   981.400024   962.000000   966.799988  909.992615   \n",
       "2019-01-24   962.400024   966.150024   929.150024   933.299988  878.460999   \n",
       "2019-01-25   937.400024   939.599976   908.099976   912.799988  859.165527   \n",
       "2019-01-28   914.000000   917.500000   872.099976   875.099976  823.680725   \n",
       "2019-01-29   878.900024   891.500000   871.000000   884.950012  832.951965   \n",
       "2019-01-30   892.900024   895.000000   866.000000   879.299988  827.633911   \n",
       "2019-01-31   879.349976   883.349976   866.400024   874.000000  822.645386   \n",
       "2019-02-01   877.599976   893.950012   874.049988   889.299988  837.046326   \n",
       "2019-02-04   894.000000   900.799988   881.400024   888.650024  836.434570   \n",
       "2019-02-05   890.500000   904.200012   879.750000   897.400024  844.670471   \n",
       "2019-02-06   899.900024   912.400024   897.049988   907.900024  854.553528   \n",
       "2019-02-07   906.099976   929.900024   905.200012   922.900024  868.672058   \n",
       "2019-02-08   918.799988   922.349976   897.250000   904.500000  851.353210   \n",
       "2019-02-11   900.000000   908.400024   889.049988   903.799988  850.694336   \n",
       "\n",
       "             Volume  Open: 30 days rolling  \n",
       "Date                                        \n",
       "2019-01-01   671934                    NaN  \n",
       "2019-01-02   827581                    NaN  \n",
       "2019-01-03   477746                    NaN  \n",
       "2019-01-04  1194424                    NaN  \n",
       "2019-01-07  1225753                    NaN  \n",
       "2019-01-08  4365760                    NaN  \n",
       "2019-01-09  1345457                    NaN  \n",
       "2019-01-10   473621                    NaN  \n",
       "2019-01-11  1410190                    NaN  \n",
       "2019-01-14   479983                    NaN  \n",
       "2019-01-15   657468                    NaN  \n",
       "2019-01-16   327270                    NaN  \n",
       "2019-01-17   478499                    NaN  \n",
       "2019-01-18   366679                    NaN  \n",
       "2019-01-21   556855                    NaN  \n",
       "2019-01-22   280798                    NaN  \n",
       "2019-01-23   349506                    NaN  \n",
       "2019-01-24  1357593                    NaN  \n",
       "2019-01-25   798253                    NaN  \n",
       "2019-01-28   687170                    NaN  \n",
       "2019-01-29   382535                    NaN  \n",
       "2019-01-30   382653                    NaN  \n",
       "2019-01-31   405147                    NaN  \n",
       "2019-02-01   498559                    NaN  \n",
       "2019-02-04   649150                    NaN  \n",
       "2019-02-05   488902                    NaN  \n",
       "2019-02-06   672639                    NaN  \n",
       "2019-02-07   845227                    NaN  \n",
       "2019-02-08   543811                    NaN  \n",
       "2019-02-11   379046             950.893333  "
      ]
     },
     "execution_count": 129,
     "metadata": {},
     "output_type": "execute_result"
    }
   ],
   "source": [
    "df_tesla.head(30)"
   ]
  },
  {
   "cell_type": "code",
   "execution_count": 131,
   "id": "d163d400",
   "metadata": {},
   "outputs": [
    {
     "data": {
      "text/plain": [
       "<AxesSubplot:xlabel='Date'>"
      ]
     },
     "execution_count": 131,
     "metadata": {},
     "output_type": "execute_result"
    },
    {
     "data": {
      "image/png": "[encoded data removed]",
      "text/plain": [
       "<Figure size 864x360 with 1 Axes>"
      ]
     },
     "metadata": {
      "needs_background": "light"
     },
     "output_type": "display_data"
    }
   ],
   "source": [
    "df_tesla[['Open', 'Open: 30 days rolling']].plot(figsize=(12,5))\n",
    "\n",
    "## orange line is the smoothening version of zig-zag figure"
   ]
  },
  {
   "cell_type": "code",
   "execution_count": null,
   "id": "490a67b3",
   "metadata": {},
   "outputs": [],
   "source": [
    "## Read the microsoft data using Pandas data reader\n",
    "## get the maximum price of the share from 2017 to 2022\n",
    "## Which is the date of highest price of the stock?\n",
    "## ## Which is the date of lowest price of the stock?\n",
    "\n",
    "#for highest and lowest price, calculate the newsas well"
   ]
  },
  {
   "cell_type": "code",
   "execution_count": null,
   "id": "9c98137a",
   "metadata": {},
   "outputs": [],
   "source": [
    "df_tesla['High'].rolling(10).mean()"
   ]
  }
 ],
 "metadata": {
  "kernelspec": {
   "display_name": "Python 3 (ipykernel)",
   "language": "python",
   "name": "python3"
  },
  "language_info": {
   "codemirror_mode": {
    "name": "ipython",
    "version": 3
   },
   "file_extension": ".py",
   "mimetype": "text/x-python",
   "name": "python",
   "nbconvert_exporter": "python",
   "pygments_lexer": "ipython3",
   "version": "3.9.12"
  }
 },
 "nbformat": 4,
 "nbformat_minor": 5
}
